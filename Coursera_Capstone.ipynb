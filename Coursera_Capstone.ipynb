{
 "cells": [
  {
   "cell_type": "markdown",
   "metadata": {},
   "source": [
    "# <center> Coursera Capstone Project </center>\n",
    "\n",
    "## <center> Where Should I move? </center>\n",
    "\n",
    "![alt text][logo]\n",
    "\n",
    "[logo]: https://i2.wp.com/movingtips.wpengine.com/wp-content/uploads/2019/02/moving-boxes-crosscountry.jpg \"Picture from Moving.com\"\n",
    "\n",
    "\n",
    "### Introduction/Business Problem\n",
    "The stakeholders in this case are my girlfriend and I. We have both recently graduated from college and have been debating where to live. We want to live somewhere near family, but also somewhere that is similar to our current situation. We live in Downtown Frederick at the moment and we really enjoy it. We have to move for her graduate program soon though and want to make the best decision on where to move.\n",
    "\n",
    "With the knowledge that I've gained throughout these courses, I thought that it would be interesting to apply data science skills and the Foursquare location data to make a more informed decision. I have talked with her and she has helped me create a list of possible places that we could live. I want to perform a cluster analysis on these cities to see which of them tend to be like Downtown Frederick.\n",
    "\n",
    "With the knowledge of which places are more similar to Frederick, we can make a more informed decision that will lead to greater satisfaction with our move. If there are others in a same situation, this mehtod may help you find similar living spaces.\n",
    "\n",
    "\n",
    "### Data\n",
    "This project requires that we use the Foursquare location data, which is perfect for the problem at hand. The Foursquare explore endpoint is of particular interest for this project. The explore endpoint allows for the user to specify where to search (latitude and longitude), how far around the given point to search (radius), how many venues to retreive (limit), and how to choose those top values (relevance, popularity, or distance). This call to the API will return the venues and information that meets all of those parameters. The venue information will include the location, category, and tips, among other things. Category is the main feature that we are interested in.\n",
    "\n",
    "I hope to make a search for each of these cities on my list to obtain the top 100 most popular venues within a 5 kilometer radius of the center. I will then find the proportion of the categories for each city and use that as the feature set for the clustering algorithm. I will use K-means clustering to determine similar groups of cities based on their venues and then examine to see which group contains Frederick. Looking into that group will give me more information about what Frederick looks like and what similar cities tend to look like as well based on the venues that they have around."
   ]
  },
  {
   "cell_type": "markdown",
   "metadata": {},
   "source": [
    "\n",
    "\n",
    "\n",
    "## Let's begin the analysis process\n",
    "\n",
    "After talking to my girlfriend we decided on a list of possibilities for living locations. Let's load these in and attach location coordinates to each. (Also let's load in some libraries that we will need!)\n",
    "\n"
   ]
  },
  {
   "cell_type": "code",
   "execution_count": 2,
   "metadata": {},
   "outputs": [],
   "source": [
    "# Standard library for working with tables and data\n",
    "import pandas as pd\n",
    "\n",
    "# Standard library for working with arrays and numerical data\n",
    "import numpy as np\n",
    "\n",
    "# Library for creating visual maps\n",
    "import folium\n",
    "\n",
    "# Library for acquiring coordinates and working with locations\n",
    "import geocoder\n",
    "\n",
    "# Library for working with requests to urls\n",
    "import requests\n",
    "\n",
    "# Library to get the API credenials stored on my computer\n",
    "import os\n",
    "\n",
    "# Library for visualizations\n",
    "import matplotlib.pyplot as plt\n",
    "\n",
    "# Library for the K-means cluster algorithm used later\n",
    "from sklearn.cluster import KMeans"
   ]
  },
  {
   "cell_type": "code",
   "execution_count": null,
   "metadata": {},
   "outputs": [],
   "source": [
    "# Load in the Possible Locations Table"
   ]
  },
  {
   "cell_type": "code",
   "execution_count": null,
   "metadata": {},
   "outputs": [],
   "source": [
    "# Using geocoder to acquire coordinates of locations from our possibilities list\n",
    "\n",
    "latitudes = [] #empty list to hold latitude values\n",
    "longitudes = [] #empty list to hold longitutde values\n",
    "\n",
    "for postal_code in df['Postal Code']:\n",
    "    # initialize your variable to None\n",
    "    lat_lng_coords = None\n",
    "\n",
    "    # loop until you get the coordinates\n",
    "    while(lat_lng_coords is None):\n",
    "        g = geocoder.google('{}, Toronto, Ontario'.format(postal_code))\n",
    "        lat_lng_coords = g.latlng\n",
    "\n",
    "    latitudes.append(lat_lng_coords[0])\n",
    "    longitudes.append(lat_lng_coords[1])"
   ]
  }
 ],
 "metadata": {
  "kernelspec": {
   "display_name": "Python 3",
   "language": "python",
   "name": "python3"
  },
  "language_info": {
   "codemirror_mode": {
    "name": "ipython",
    "version": 3
   },
   "file_extension": ".py",
   "mimetype": "text/x-python",
   "name": "python",
   "nbconvert_exporter": "python",
   "pygments_lexer": "ipython3",
   "version": "3.7.6"
  }
 },
 "nbformat": 4,
 "nbformat_minor": 4
}
