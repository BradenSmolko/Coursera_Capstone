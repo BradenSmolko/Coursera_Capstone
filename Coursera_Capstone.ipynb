{
 "cells": [
  {
   "cell_type": "markdown",
   "metadata": {},
   "source": [
    "# <center> Coursera Capstone Project </center>\n",
    "\n",
    "## <center> Where Should I move? </center>\n",
    "\n",
    "![alt text][logo]\n",
    "\n",
    "[logo]: https://i2.wp.com/movingtips.wpengine.com/wp-content/uploads/2019/02/moving-boxes-crosscountry.jpg \"Picture from Moving.com\"\n",
    "\n",
    "\n",
    "### Introduction/Business Problem\n",
    "The stakeholders in this case are my girlfriend and I. We have both recently graduated from college and have been debating where to live. We want to live somewhere near family, but also somewhere that is similar to our current situation. We live in Downtown Frederick at the moment and we really enjoy it. We have to move for her graduate program soon though and want to make the best decision on where to move.\n",
    "\n",
    "With the knowledge that I've gained throughout these courses, I thought that it would be interesting to apply data science skills and the Foursquare location data to make a more informed decision. I have talked with her and she has helped me create a list of possible places that we could live. I want to perform a cluster analysis on these cities to see which of them tend to be like Downtown Frederick.\n",
    "\n",
    "With the knowledge of which places are more similar to Frederick, we can make a more informed decision that will lead to greater satisfaction with our move. If there are others in a same situation, this mehtod may help you find similar living spaces.\n",
    "\n",
    "\n",
    "### Data\n",
    "This project requires that we use the Foursquare location data, which is perfect for the problem at hand. The Foursquare explore endpoint is of particular interest for this project. The explore endpoint allows for the user to specify where to search (latitude and longitude), how far around the given point to search (radius), how many venues to retreive (limit), and how to choose those top values (relevance, popularity, or distance). This call to the API will return the venues and information that meets all of those parameters. The venue information will include the location, category, and tips, among other things. Category is the main feature that we are interested in.\n",
    "\n",
    "I hope to make a search for each of these cities on my list to obtain the top 100 most popular venues within a 5 kilometer radius of the center. I will then find the proportion of the categories for each city and use that as the feature set for the clustering algorithm. I will use K-means clustering to determine similar groups of cities based on their venues and then examine to see which group contains Frederick. Looking into that group will give me more information about what Frederick looks like and what similar cities tend to look like as well based on the venues that they have around."
   ]
  },
  {
   "cell_type": "markdown",
   "metadata": {},
   "source": [
    "\n",
    "\n",
    "\n",
    "## Let's begin the analysis process\n",
    "\n",
    "After talking to my girlfriend we decided on a list of possibilities for living locations. Let's load these in and attach location coordinates to each. (Also let's load in some libraries that we will need!)\n",
    "\n"
   ]
  },
  {
   "cell_type": "code",
   "execution_count": 1,
   "metadata": {},
   "outputs": [],
   "source": [
    "# Standard library for working with tables and data\n",
    "import pandas as pd\n",
    "\n",
    "# Standard library for working with arrays and numerical data\n",
    "import numpy as np\n",
    "\n",
    "# Library for creating visual maps\n",
    "import folium\n",
    "\n",
    "# Library for geocoding\n",
    "from geopy.geocoders import Nominatim\n",
    "\n",
    "# Library for working with requests to urls\n",
    "import requests\n",
    "\n",
    "# Library to get the API credenials stored on my computer\n",
    "import os\n",
    "\n",
    "# Library for visualizations\n",
    "import matplotlib.pyplot as plt\n",
    "\n",
    "# Library for the K-means cluster algorithm used later\n",
    "from sklearn.cluster import KMeans"
   ]
  },
  {
   "cell_type": "code",
   "execution_count": 2,
   "metadata": {},
   "outputs": [
    {
     "data": {
      "text/html": [
       "<div>\n",
       "<style scoped>\n",
       "    .dataframe tbody tr th:only-of-type {\n",
       "        vertical-align: middle;\n",
       "    }\n",
       "\n",
       "    .dataframe tbody tr th {\n",
       "        vertical-align: top;\n",
       "    }\n",
       "\n",
       "    .dataframe thead th {\n",
       "        text-align: right;\n",
       "    }\n",
       "</style>\n",
       "<table border=\"1\" class=\"dataframe\">\n",
       "  <thead>\n",
       "    <tr style=\"text-align: right;\">\n",
       "      <th></th>\n",
       "      <th>City</th>\n",
       "      <th>State</th>\n",
       "    </tr>\n",
       "  </thead>\n",
       "  <tbody>\n",
       "    <tr>\n",
       "      <th>0</th>\n",
       "      <td>Frederick</td>\n",
       "      <td>MD</td>\n",
       "    </tr>\n",
       "    <tr>\n",
       "      <th>1</th>\n",
       "      <td>Annapolis</td>\n",
       "      <td>MD</td>\n",
       "    </tr>\n",
       "    <tr>\n",
       "      <th>2</th>\n",
       "      <td>Hagerstown</td>\n",
       "      <td>MD</td>\n",
       "    </tr>\n",
       "    <tr>\n",
       "      <th>3</th>\n",
       "      <td>Towson</td>\n",
       "      <td>MD</td>\n",
       "    </tr>\n",
       "    <tr>\n",
       "      <th>4</th>\n",
       "      <td>Hampden</td>\n",
       "      <td>MD</td>\n",
       "    </tr>\n",
       "  </tbody>\n",
       "</table>\n",
       "</div>"
      ],
      "text/plain": [
       "         City State\n",
       "0   Frederick    MD\n",
       "1   Annapolis    MD\n",
       "2  Hagerstown    MD\n",
       "3      Towson    MD\n",
       "4     Hampden    MD"
      ]
     },
     "execution_count": 2,
     "metadata": {},
     "output_type": "execute_result"
    }
   ],
   "source": [
    "# Load in the Possible Locations Table from the repository\n",
    "df_url = 'https://raw.githubusercontent.com/BradenSmolko/Coursera_Capstone/master/PossibleLocations.csv'\n",
    "locations_df = pd.read_csv(df_url)\n",
    "locations_df.head()"
   ]
  },
  {
   "cell_type": "markdown",
   "metadata": {},
   "source": [
    "### Geocode possible locations\n",
    "Use geopy to geocode the locations that we are considering for our move and make an initial map to visualize these locations."
   ]
  },
  {
   "cell_type": "code",
   "execution_count": 3,
   "metadata": {},
   "outputs": [],
   "source": [
    "# Use geopy's geocoder to acquire coordinates of cities\n",
    "\n",
    "geolocator = Nominatim(user_agent = \"capstone_project\")\n",
    "latitudes = []\n",
    "longitudes = []\n",
    "\n",
    "for city, state in zip(locations_df['City'], locations_df['State']):\n",
    "    city_lat = None\n",
    "    city_lng = None\n",
    "    \n",
    "    location = geolocator.geocode('{}, {}'.format(city, state))\n",
    "    try:\n",
    "        city_lat = location.latitude\n",
    "        city_lng = location.longitude\n",
    "    except:\n",
    "        city_lat = None\n",
    "        city_lat = None\n",
    "        print('Error occured with {}, {}'.format(city, state))\n",
    "        \n",
    "    latitudes.append(city_lat)\n",
    "    longitudes.append(city_lng)"
   ]
  },
  {
   "cell_type": "code",
   "execution_count": 4,
   "metadata": {},
   "outputs": [
    {
     "data": {
      "text/html": [
       "<div>\n",
       "<style scoped>\n",
       "    .dataframe tbody tr th:only-of-type {\n",
       "        vertical-align: middle;\n",
       "    }\n",
       "\n",
       "    .dataframe tbody tr th {\n",
       "        vertical-align: top;\n",
       "    }\n",
       "\n",
       "    .dataframe thead th {\n",
       "        text-align: right;\n",
       "    }\n",
       "</style>\n",
       "<table border=\"1\" class=\"dataframe\">\n",
       "  <thead>\n",
       "    <tr style=\"text-align: right;\">\n",
       "      <th></th>\n",
       "      <th>City</th>\n",
       "      <th>State</th>\n",
       "      <th>Latitude</th>\n",
       "      <th>Longitude</th>\n",
       "    </tr>\n",
       "  </thead>\n",
       "  <tbody>\n",
       "    <tr>\n",
       "      <th>0</th>\n",
       "      <td>Frederick</td>\n",
       "      <td>MD</td>\n",
       "      <td>39.414219</td>\n",
       "      <td>-77.410927</td>\n",
       "    </tr>\n",
       "    <tr>\n",
       "      <th>1</th>\n",
       "      <td>Annapolis</td>\n",
       "      <td>MD</td>\n",
       "      <td>38.978640</td>\n",
       "      <td>-76.492786</td>\n",
       "    </tr>\n",
       "    <tr>\n",
       "      <th>2</th>\n",
       "      <td>Hagerstown</td>\n",
       "      <td>MD</td>\n",
       "      <td>39.641922</td>\n",
       "      <td>-77.720264</td>\n",
       "    </tr>\n",
       "    <tr>\n",
       "      <th>3</th>\n",
       "      <td>Towson</td>\n",
       "      <td>MD</td>\n",
       "      <td>39.401855</td>\n",
       "      <td>-76.602388</td>\n",
       "    </tr>\n",
       "    <tr>\n",
       "      <th>4</th>\n",
       "      <td>Hampden</td>\n",
       "      <td>MD</td>\n",
       "      <td>39.330940</td>\n",
       "      <td>-76.634969</td>\n",
       "    </tr>\n",
       "  </tbody>\n",
       "</table>\n",
       "</div>"
      ],
      "text/plain": [
       "         City State   Latitude  Longitude\n",
       "0   Frederick    MD  39.414219 -77.410927\n",
       "1   Annapolis    MD  38.978640 -76.492786\n",
       "2  Hagerstown    MD  39.641922 -77.720264\n",
       "3      Towson    MD  39.401855 -76.602388\n",
       "4     Hampden    MD  39.330940 -76.634969"
      ]
     },
     "execution_count": 4,
     "metadata": {},
     "output_type": "execute_result"
    }
   ],
   "source": [
    "# Add the coordinates to the locations_df\n",
    "locations_df['Latitude'] = latitudes\n",
    "locations_df['Longitude'] = longitudes\n",
    "\n",
    "locations_df.head()"
   ]
  },
  {
   "cell_type": "code",
   "execution_count": 5,
   "metadata": {},
   "outputs": [
    {
     "data": {
      "text/html": [
       "<div style=\"width:100%;\"><div style=\"position:relative;width:100%;height:0;padding-bottom:60%;\"><span style=\"color:#565656\">Make this Notebook Trusted to load map: File -> Trust Notebook</span><iframe src=\"about:blank\" style=\"position:absolute;width:100%;height:100%;left:0;top:0;border:none !important;\" data-html=PCFET0NUWVBFIGh0bWw+CjxoZWFkPiAgICAKICAgIDxtZXRhIGh0dHAtZXF1aXY9ImNvbnRlbnQtdHlwZSIgY29udGVudD0idGV4dC9odG1sOyBjaGFyc2V0PVVURi04IiAvPgogICAgPHNjcmlwdD5MX1BSRUZFUl9DQU5WQVMgPSBmYWxzZTsgTF9OT19UT1VDSCA9IGZhbHNlOyBMX0RJU0FCTEVfM0QgPSBmYWxzZTs8L3NjcmlwdD4KICAgIDxzY3JpcHQgc3JjPSJodHRwczovL2Nkbi5qc2RlbGl2ci5uZXQvbnBtL2xlYWZsZXRAMS4yLjAvZGlzdC9sZWFmbGV0LmpzIj48L3NjcmlwdD4KICAgIDxzY3JpcHQgc3JjPSJodHRwczovL2FqYXguZ29vZ2xlYXBpcy5jb20vYWpheC9saWJzL2pxdWVyeS8xLjExLjEvanF1ZXJ5Lm1pbi5qcyI+PC9zY3JpcHQ+CiAgICA8c2NyaXB0IHNyYz0iaHR0cHM6Ly9tYXhjZG4uYm9vdHN0cmFwY2RuLmNvbS9ib290c3RyYXAvMy4yLjAvanMvYm9vdHN0cmFwLm1pbi5qcyI+PC9zY3JpcHQ+CiAgICA8c2NyaXB0IHNyYz0iaHR0cHM6Ly9jZG5qcy5jbG91ZGZsYXJlLmNvbS9hamF4L2xpYnMvTGVhZmxldC5hd2Vzb21lLW1hcmtlcnMvMi4wLjIvbGVhZmxldC5hd2Vzb21lLW1hcmtlcnMuanMiPjwvc2NyaXB0PgogICAgPGxpbmsgcmVsPSJzdHlsZXNoZWV0IiBocmVmPSJodHRwczovL2Nkbi5qc2RlbGl2ci5uZXQvbnBtL2xlYWZsZXRAMS4yLjAvZGlzdC9sZWFmbGV0LmNzcyIvPgogICAgPGxpbmsgcmVsPSJzdHlsZXNoZWV0IiBocmVmPSJodHRwczovL21heGNkbi5ib290c3RyYXBjZG4uY29tL2Jvb3RzdHJhcC8zLjIuMC9jc3MvYm9vdHN0cmFwLm1pbi5jc3MiLz4KICAgIDxsaW5rIHJlbD0ic3R5bGVzaGVldCIgaHJlZj0iaHR0cHM6Ly9tYXhjZG4uYm9vdHN0cmFwY2RuLmNvbS9ib290c3RyYXAvMy4yLjAvY3NzL2Jvb3RzdHJhcC10aGVtZS5taW4uY3NzIi8+CiAgICA8bGluayByZWw9InN0eWxlc2hlZXQiIGhyZWY9Imh0dHBzOi8vbWF4Y2RuLmJvb3RzdHJhcGNkbi5jb20vZm9udC1hd2Vzb21lLzQuNi4zL2Nzcy9mb250LWF3ZXNvbWUubWluLmNzcyIvPgogICAgPGxpbmsgcmVsPSJzdHlsZXNoZWV0IiBocmVmPSJodHRwczovL2NkbmpzLmNsb3VkZmxhcmUuY29tL2FqYXgvbGlicy9MZWFmbGV0LmF3ZXNvbWUtbWFya2Vycy8yLjAuMi9sZWFmbGV0LmF3ZXNvbWUtbWFya2Vycy5jc3MiLz4KICAgIDxsaW5rIHJlbD0ic3R5bGVzaGVldCIgaHJlZj0iaHR0cHM6Ly9yYXdnaXQuY29tL3B5dGhvbi12aXN1YWxpemF0aW9uL2ZvbGl1bS9tYXN0ZXIvZm9saXVtL3RlbXBsYXRlcy9sZWFmbGV0LmF3ZXNvbWUucm90YXRlLmNzcyIvPgogICAgPHN0eWxlPmh0bWwsIGJvZHkge3dpZHRoOiAxMDAlO2hlaWdodDogMTAwJTttYXJnaW46IDA7cGFkZGluZzogMDt9PC9zdHlsZT4KICAgIDxzdHlsZT4jbWFwIHtwb3NpdGlvbjphYnNvbHV0ZTt0b3A6MDtib3R0b206MDtyaWdodDowO2xlZnQ6MDt9PC9zdHlsZT4KICAgIAogICAgICAgICAgICA8c3R5bGU+ICNtYXBfNGJiODhiM2Q2NTcwNDk0NmE1NDViYmI3NmYwMDkxNDggewogICAgICAgICAgICAgICAgcG9zaXRpb24gOiByZWxhdGl2ZTsKICAgICAgICAgICAgICAgIHdpZHRoIDogMTAwLjAlOwogICAgICAgICAgICAgICAgaGVpZ2h0OiAxMDAuMCU7CiAgICAgICAgICAgICAgICBsZWZ0OiAwLjAlOwogICAgICAgICAgICAgICAgdG9wOiAwLjAlOwogICAgICAgICAgICAgICAgfQogICAgICAgICAgICA8L3N0eWxlPgogICAgICAgIAo8L2hlYWQ+Cjxib2R5PiAgICAKICAgIAogICAgICAgICAgICA8ZGl2IGNsYXNzPSJmb2xpdW0tbWFwIiBpZD0ibWFwXzRiYjg4YjNkNjU3MDQ5NDZhNTQ1YmJiNzZmMDA5MTQ4IiA+PC9kaXY+CiAgICAgICAgCjwvYm9keT4KPHNjcmlwdD4gICAgCiAgICAKCiAgICAgICAgICAgIAogICAgICAgICAgICAgICAgdmFyIGJvdW5kcyA9IG51bGw7CiAgICAgICAgICAgIAoKICAgICAgICAgICAgdmFyIG1hcF80YmI4OGIzZDY1NzA0OTQ2YTU0NWJiYjc2ZjAwOTE0OCA9IEwubWFwKAogICAgICAgICAgICAgICAgICAgICAgICAgICAgICAgICAgJ21hcF80YmI4OGIzZDY1NzA0OTQ2YTU0NWJiYjc2ZjAwOTE0OCcsCiAgICAgICAgICAgICAgICAgICAgICAgICAgICAgICAgICB7Y2VudGVyOiBbMzkuMjIsLTc3LjA5XSwKICAgICAgICAgICAgICAgICAgICAgICAgICAgICAgICAgIHpvb206IDkuMCwKICAgICAgICAgICAgICAgICAgICAgICAgICAgICAgICAgIG1heEJvdW5kczogYm91bmRzLAogICAgICAgICAgICAgICAgICAgICAgICAgICAgICAgICAgbGF5ZXJzOiBbXSwKICAgICAgICAgICAgICAgICAgICAgICAgICAgICAgICAgIHdvcmxkQ29weUp1bXA6IGZhbHNlLAogICAgICAgICAgICAgICAgICAgICAgICAgICAgICAgICAgY3JzOiBMLkNSUy5FUFNHMzg1NwogICAgICAgICAgICAgICAgICAgICAgICAgICAgICAgICB9KTsKICAgICAgICAgICAgCiAgICAgICAgCiAgICAKICAgICAgICAgICAgdmFyIHRpbGVfbGF5ZXJfMDIyYjVkYTY2YzY1NDUxNjkzMmYwMTRhYWYwMTU1ZDYgPSBMLnRpbGVMYXllcigKICAgICAgICAgICAgICAgICdodHRwczovL3N0YW1lbi10aWxlcy17c30uYS5zc2wuZmFzdGx5Lm5ldC90ZXJyYWluL3t6fS97eH0ve3l9LmpwZycsCiAgICAgICAgICAgICAgICB7CiAgImF0dHJpYnV0aW9uIjogbnVsbCwKICAiZGV0ZWN0UmV0aW5hIjogZmFsc2UsCiAgIm1heFpvb20iOiAxOCwKICAibWluWm9vbSI6IDEsCiAgIm5vV3JhcCI6IGZhbHNlLAogICJzdWJkb21haW5zIjogImFiYyIKfQogICAgICAgICAgICAgICAgKS5hZGRUbyhtYXBfNGJiODhiM2Q2NTcwNDk0NmE1NDViYmI3NmYwMDkxNDgpOwogICAgICAgIAogICAgCiAgICAgICAgICAgIHZhciBjaXJjbGVfbWFya2VyX2VkYjc1YzU4N2Q0YTRjNDA4NmZkZDY5NWMwNzJlYTZlID0gTC5jaXJjbGVNYXJrZXIoCiAgICAgICAgICAgICAgICBbMzkuNDE0MjE4NiwtNzcuNDEwOTI2OV0sCiAgICAgICAgICAgICAgICB7CiAgImJ1YmJsaW5nTW91c2VFdmVudHMiOiB0cnVlLAogICJjb2xvciI6ICJibHVlIiwKICAiZGFzaEFycmF5IjogbnVsbCwKICAiZGFzaE9mZnNldCI6IG51bGwsCiAgImZpbGwiOiB0cnVlLAogICJmaWxsQ29sb3IiOiAiI0FERDhFNiIsCiAgImZpbGxPcGFjaXR5IjogMC42LAogICJmaWxsUnVsZSI6ICJldmVub2RkIiwKICAibGluZUNhcCI6ICJyb3VuZCIsCiAgImxpbmVKb2luIjogInJvdW5kIiwKICAib3BhY2l0eSI6IDEuMCwKICAicmFkaXVzIjogNSwKICAic3Ryb2tlIjogdHJ1ZSwKICAid2VpZ2h0IjogMwp9CiAgICAgICAgICAgICAgICApLmFkZFRvKG1hcF80YmI4OGIzZDY1NzA0OTQ2YTU0NWJiYjc2ZjAwOTE0OCk7CiAgICAgICAgICAgIAogICAgCiAgICAgICAgICAgIHZhciBwb3B1cF8yNGUzOWE1N2QwMjU0YTg3YmMzYjNiYWJlNjVmZGJjOCA9IEwucG9wdXAoe21heFdpZHRoOiAnMzAwJ30pOwoKICAgICAgICAgICAgCiAgICAgICAgICAgICAgICB2YXIgaHRtbF9hYWVjNjA2MTNiOGY0ODk5YTdlYzU4NGY0ZDRjODJlNSA9ICQoJzxkaXYgaWQ9Imh0bWxfYWFlYzYwNjEzYjhmNDg5OWE3ZWM1ODRmNGQ0YzgyZTUiIHN0eWxlPSJ3aWR0aDogMTAwLjAlOyBoZWlnaHQ6IDEwMC4wJTsiPkZyZWRlcmljaywgTUQ8L2Rpdj4nKVswXTsKICAgICAgICAgICAgICAgIHBvcHVwXzI0ZTM5YTU3ZDAyNTRhODdiYzNiM2JhYmU2NWZkYmM4LnNldENvbnRlbnQoaHRtbF9hYWVjNjA2MTNiOGY0ODk5YTdlYzU4NGY0ZDRjODJlNSk7CiAgICAgICAgICAgIAoKICAgICAgICAgICAgY2lyY2xlX21hcmtlcl9lZGI3NWM1ODdkNGE0YzQwODZmZGQ2OTVjMDcyZWE2ZS5iaW5kUG9wdXAocG9wdXBfMjRlMzlhNTdkMDI1NGE4N2JjM2IzYmFiZTY1ZmRiYzgpOwoKICAgICAgICAgICAgCiAgICAgICAgCiAgICAKICAgICAgICAgICAgdmFyIGNpcmNsZV9tYXJrZXJfN2E1N2NlMmU2MDM1NGMwYmE4ODZmMzcyMjUzYmY3NTcgPSBMLmNpcmNsZU1hcmtlcigKICAgICAgICAgICAgICAgIFszOC45Nzg2NDAxLC03Ni40OTI3ODZdLAogICAgICAgICAgICAgICAgewogICJidWJibGluZ01vdXNlRXZlbnRzIjogdHJ1ZSwKICAiY29sb3IiOiAiYmx1ZSIsCiAgImRhc2hBcnJheSI6IG51bGwsCiAgImRhc2hPZmZzZXQiOiBudWxsLAogICJmaWxsIjogdHJ1ZSwKICAiZmlsbENvbG9yIjogIiNBREQ4RTYiLAogICJmaWxsT3BhY2l0eSI6IDAuNiwKICAiZmlsbFJ1bGUiOiAiZXZlbm9kZCIsCiAgImxpbmVDYXAiOiAicm91bmQiLAogICJsaW5lSm9pbiI6ICJyb3VuZCIsCiAgIm9wYWNpdHkiOiAxLjAsCiAgInJhZGl1cyI6IDUsCiAgInN0cm9rZSI6IHRydWUsCiAgIndlaWdodCI6IDMKfQogICAgICAgICAgICAgICAgKS5hZGRUbyhtYXBfNGJiODhiM2Q2NTcwNDk0NmE1NDViYmI3NmYwMDkxNDgpOwogICAgICAgICAgICAKICAgIAogICAgICAgICAgICB2YXIgcG9wdXBfOTM1NzI0ZTA2NWM3NGFjNjliYWIxZDQzNmExOWYwZGEgPSBMLnBvcHVwKHttYXhXaWR0aDogJzMwMCd9KTsKCiAgICAgICAgICAgIAogICAgICAgICAgICAgICAgdmFyIGh0bWxfMjI2NzBlMzQ1YzM0NGY1MjliZTEyN2QzNjk1MGYzMDcgPSAkKCc8ZGl2IGlkPSJodG1sXzIyNjcwZTM0NWMzNDRmNTI5YmUxMjdkMzY5NTBmMzA3IiBzdHlsZT0id2lkdGg6IDEwMC4wJTsgaGVpZ2h0OiAxMDAuMCU7Ij5Bbm5hcG9saXMsIE1EPC9kaXY+JylbMF07CiAgICAgICAgICAgICAgICBwb3B1cF85MzU3MjRlMDY1Yzc0YWM2OWJhYjFkNDM2YTE5ZjBkYS5zZXRDb250ZW50KGh0bWxfMjI2NzBlMzQ1YzM0NGY1MjliZTEyN2QzNjk1MGYzMDcpOwogICAgICAgICAgICAKCiAgICAgICAgICAgIGNpcmNsZV9tYXJrZXJfN2E1N2NlMmU2MDM1NGMwYmE4ODZmMzcyMjUzYmY3NTcuYmluZFBvcHVwKHBvcHVwXzkzNTcyNGUwNjVjNzRhYzY5YmFiMWQ0MzZhMTlmMGRhKTsKCiAgICAgICAgICAgIAogICAgICAgIAogICAgCiAgICAgICAgICAgIHZhciBjaXJjbGVfbWFya2VyXzc2OTI5NzhmZDE1YTRkOGZhYTU3ZjY4YzViNTdiNzIzID0gTC5jaXJjbGVNYXJrZXIoCiAgICAgICAgICAgICAgICBbMzkuNjQxOTIxOSwtNzcuNzIwMjY0MV0sCiAgICAgICAgICAgICAgICB7CiAgImJ1YmJsaW5nTW91c2VFdmVudHMiOiB0cnVlLAogICJjb2xvciI6ICJibHVlIiwKICAiZGFzaEFycmF5IjogbnVsbCwKICAiZGFzaE9mZnNldCI6IG51bGwsCiAgImZpbGwiOiB0cnVlLAogICJmaWxsQ29sb3IiOiAiI0FERDhFNiIsCiAgImZpbGxPcGFjaXR5IjogMC42LAogICJmaWxsUnVsZSI6ICJldmVub2RkIiwKICAibGluZUNhcCI6ICJyb3VuZCIsCiAgImxpbmVKb2luIjogInJvdW5kIiwKICAib3BhY2l0eSI6IDEuMCwKICAicmFkaXVzIjogNSwKICAic3Ryb2tlIjogdHJ1ZSwKICAid2VpZ2h0IjogMwp9CiAgICAgICAgICAgICAgICApLmFkZFRvKG1hcF80YmI4OGIzZDY1NzA0OTQ2YTU0NWJiYjc2ZjAwOTE0OCk7CiAgICAgICAgICAgIAogICAgCiAgICAgICAgICAgIHZhciBwb3B1cF8yZDY0ZDk3OGVmYzA0MjNkOTMwYjQyYzg2YTAzYjI4NCA9IEwucG9wdXAoe21heFdpZHRoOiAnMzAwJ30pOwoKICAgICAgICAgICAgCiAgICAgICAgICAgICAgICB2YXIgaHRtbF85OWIwMDYzZjUyYWU0NjY2OGE2MjZkMGFiOTBmNjU5MiA9ICQoJzxkaXYgaWQ9Imh0bWxfOTliMDA2M2Y1MmFlNDY2NjhhNjI2ZDBhYjkwZjY1OTIiIHN0eWxlPSJ3aWR0aDogMTAwLjAlOyBoZWlnaHQ6IDEwMC4wJTsiPkhhZ2Vyc3Rvd24sIE1EPC9kaXY+JylbMF07CiAgICAgICAgICAgICAgICBwb3B1cF8yZDY0ZDk3OGVmYzA0MjNkOTMwYjQyYzg2YTAzYjI4NC5zZXRDb250ZW50KGh0bWxfOTliMDA2M2Y1MmFlNDY2NjhhNjI2ZDBhYjkwZjY1OTIpOwogICAgICAgICAgICAKCiAgICAgICAgICAgIGNpcmNsZV9tYXJrZXJfNzY5Mjk3OGZkMTVhNGQ4ZmFhNTdmNjhjNWI1N2I3MjMuYmluZFBvcHVwKHBvcHVwXzJkNjRkOTc4ZWZjMDQyM2Q5MzBiNDJjODZhMDNiMjg0KTsKCiAgICAgICAgICAgIAogICAgICAgIAogICAgCiAgICAgICAgICAgIHZhciBjaXJjbGVfbWFya2VyXzJhYmM1MWFjN2U3ZDQwY2I5NzJiNjg3OTUzYzg5MWJmID0gTC5jaXJjbGVNYXJrZXIoCiAgICAgICAgICAgICAgICBbMzkuNDAxODU1MiwtNzYuNjAyMzg4XSwKICAgICAgICAgICAgICAgIHsKICAiYnViYmxpbmdNb3VzZUV2ZW50cyI6IHRydWUsCiAgImNvbG9yIjogImJsdWUiLAogICJkYXNoQXJyYXkiOiBudWxsLAogICJkYXNoT2Zmc2V0IjogbnVsbCwKICAiZmlsbCI6IHRydWUsCiAgImZpbGxDb2xvciI6ICIjQUREOEU2IiwKICAiZmlsbE9wYWNpdHkiOiAwLjYsCiAgImZpbGxSdWxlIjogImV2ZW5vZGQiLAogICJsaW5lQ2FwIjogInJvdW5kIiwKICAibGluZUpvaW4iOiAicm91bmQiLAogICJvcGFjaXR5IjogMS4wLAogICJyYWRpdXMiOiA1LAogICJzdHJva2UiOiB0cnVlLAogICJ3ZWlnaHQiOiAzCn0KICAgICAgICAgICAgICAgICkuYWRkVG8obWFwXzRiYjg4YjNkNjU3MDQ5NDZhNTQ1YmJiNzZmMDA5MTQ4KTsKICAgICAgICAgICAgCiAgICAKICAgICAgICAgICAgdmFyIHBvcHVwX2YzZTI1NTI5ODVkMTQ4ZWNhYWVmOTllM2YyMDdmZGNjID0gTC5wb3B1cCh7bWF4V2lkdGg6ICczMDAnfSk7CgogICAgICAgICAgICAKICAgICAgICAgICAgICAgIHZhciBodG1sXzY1NWMxZGFkNWI0YjQ5YTQ4NDgwZmQwMmViMGY0MWM5ID0gJCgnPGRpdiBpZD0iaHRtbF82NTVjMWRhZDViNGI0OWE0ODQ4MGZkMDJlYjBmNDFjOSIgc3R5bGU9IndpZHRoOiAxMDAuMCU7IGhlaWdodDogMTAwLjAlOyI+VG93c29uLCBNRDwvZGl2PicpWzBdOwogICAgICAgICAgICAgICAgcG9wdXBfZjNlMjU1Mjk4NWQxNDhlY2FhZWY5OWUzZjIwN2ZkY2Muc2V0Q29udGVudChodG1sXzY1NWMxZGFkNWI0YjQ5YTQ4NDgwZmQwMmViMGY0MWM5KTsKICAgICAgICAgICAgCgogICAgICAgICAgICBjaXJjbGVfbWFya2VyXzJhYmM1MWFjN2U3ZDQwY2I5NzJiNjg3OTUzYzg5MWJmLmJpbmRQb3B1cChwb3B1cF9mM2UyNTUyOTg1ZDE0OGVjYWFlZjk5ZTNmMjA3ZmRjYyk7CgogICAgICAgICAgICAKICAgICAgICAKICAgIAogICAgICAgICAgICB2YXIgY2lyY2xlX21hcmtlcl8wZDYxYmExNWJmZGI0NTNiYTEwYzU3YWVmM2Q1ZDk0OSA9IEwuY2lyY2xlTWFya2VyKAogICAgICAgICAgICAgICAgWzM5LjMzMDk0MDEsLTc2LjYzNDk2ODZdLAogICAgICAgICAgICAgICAgewogICJidWJibGluZ01vdXNlRXZlbnRzIjogdHJ1ZSwKICAiY29sb3IiOiAiYmx1ZSIsCiAgImRhc2hBcnJheSI6IG51bGwsCiAgImRhc2hPZmZzZXQiOiBudWxsLAogICJmaWxsIjogdHJ1ZSwKICAiZmlsbENvbG9yIjogIiNBREQ4RTYiLAogICJmaWxsT3BhY2l0eSI6IDAuNiwKICAiZmlsbFJ1bGUiOiAiZXZlbm9kZCIsCiAgImxpbmVDYXAiOiAicm91bmQiLAogICJsaW5lSm9pbiI6ICJyb3VuZCIsCiAgIm9wYWNpdHkiOiAxLjAsCiAgInJhZGl1cyI6IDUsCiAgInN0cm9rZSI6IHRydWUsCiAgIndlaWdodCI6IDMKfQogICAgICAgICAgICAgICAgKS5hZGRUbyhtYXBfNGJiODhiM2Q2NTcwNDk0NmE1NDViYmI3NmYwMDkxNDgpOwogICAgICAgICAgICAKICAgIAogICAgICAgICAgICB2YXIgcG9wdXBfOWMzZTNjYzZkZDNjNDBkMmI1MThjYWJmNGZkOTM0NzAgPSBMLnBvcHVwKHttYXhXaWR0aDogJzMwMCd9KTsKCiAgICAgICAgICAgIAogICAgICAgICAgICAgICAgdmFyIGh0bWxfNTI4YzA1OWE2YzUyNGM4OGJhNDExNGE1NzY2YzQyODMgPSAkKCc8ZGl2IGlkPSJodG1sXzUyOGMwNTlhNmM1MjRjODhiYTQxMTRhNTc2NmM0MjgzIiBzdHlsZT0id2lkdGg6IDEwMC4wJTsgaGVpZ2h0OiAxMDAuMCU7Ij5IYW1wZGVuLCBNRDwvZGl2PicpWzBdOwogICAgICAgICAgICAgICAgcG9wdXBfOWMzZTNjYzZkZDNjNDBkMmI1MThjYWJmNGZkOTM0NzAuc2V0Q29udGVudChodG1sXzUyOGMwNTlhNmM1MjRjODhiYTQxMTRhNTc2NmM0MjgzKTsKICAgICAgICAgICAgCgogICAgICAgICAgICBjaXJjbGVfbWFya2VyXzBkNjFiYTE1YmZkYjQ1M2JhMTBjNTdhZWYzZDVkOTQ5LmJpbmRQb3B1cChwb3B1cF85YzNlM2NjNmRkM2M0MGQyYjUxOGNhYmY0ZmQ5MzQ3MCk7CgogICAgICAgICAgICAKICAgICAgICAKICAgIAogICAgICAgICAgICB2YXIgY2lyY2xlX21hcmtlcl8yY2ZmMzUwN2ZhODU0NmVmOTQxZjAzZTJhN2JhOTA0MCA9IEwuY2lyY2xlTWFya2VyKAogICAgICAgICAgICAgICAgWzM5LjM3NzMyOTIsLTc2LjUzOTY4NzVdLAogICAgICAgICAgICAgICAgewogICJidWJibGluZ01vdXNlRXZlbnRzIjogdHJ1ZSwKICAiY29sb3IiOiAiYmx1ZSIsCiAgImRhc2hBcnJheSI6IG51bGwsCiAgImRhc2hPZmZzZXQiOiBudWxsLAogICJmaWxsIjogdHJ1ZSwKICAiZmlsbENvbG9yIjogIiNBREQ4RTYiLAogICJmaWxsT3BhY2l0eSI6IDAuNiwKICAiZmlsbFJ1bGUiOiAiZXZlbm9kZCIsCiAgImxpbmVDYXAiOiAicm91bmQiLAogICJsaW5lSm9pbiI6ICJyb3VuZCIsCiAgIm9wYWNpdHkiOiAxLjAsCiAgInJhZGl1cyI6IDUsCiAgInN0cm9rZSI6IHRydWUsCiAgIndlaWdodCI6IDMKfQogICAgICAgICAgICAgICAgKS5hZGRUbyhtYXBfNGJiODhiM2Q2NTcwNDk0NmE1NDViYmI3NmYwMDkxNDgpOwogICAgICAgICAgICAKICAgIAogICAgICAgICAgICB2YXIgcG9wdXBfNTBjYzVjOTNjZmI5NDFmOThlN2RiNmRkODkyMzYyOTEgPSBMLnBvcHVwKHttYXhXaWR0aDogJzMwMCd9KTsKCiAgICAgICAgICAgIAogICAgICAgICAgICAgICAgdmFyIGh0bWxfYzM5YjM0ZTA3NzE2NDg3OWIzYzQ3YzZmY2U4ODBkMDUgPSAkKCc8ZGl2IGlkPSJodG1sX2MzOWIzNGUwNzcxNjQ4NzliM2M0N2M2ZmNlODgwZDA1IiBzdHlsZT0id2lkdGg6IDEwMC4wJTsgaGVpZ2h0OiAxMDAuMCU7Ij5QYXJrdmlsbGUsIE1EPC9kaXY+JylbMF07CiAgICAgICAgICAgICAgICBwb3B1cF81MGNjNWM5M2NmYjk0MWY5OGU3ZGI2ZGQ4OTIzNjI5MS5zZXRDb250ZW50KGh0bWxfYzM5YjM0ZTA3NzE2NDg3OWIzYzQ3YzZmY2U4ODBkMDUpOwogICAgICAgICAgICAKCiAgICAgICAgICAgIGNpcmNsZV9tYXJrZXJfMmNmZjM1MDdmYTg1NDZlZjk0MWYwM2UyYTdiYTkwNDAuYmluZFBvcHVwKHBvcHVwXzUwY2M1YzkzY2ZiOTQxZjk4ZTdkYjZkZDg5MjM2MjkxKTsKCiAgICAgICAgICAgIAogICAgICAgIAogICAgCiAgICAgICAgICAgIHZhciBjaXJjbGVfbWFya2VyXzAzYmRjZWRjYTQ3NzRkNmU4NTRmNWE4YmQ0ZGMwYTAyID0gTC5jaXJjbGVNYXJrZXIoCiAgICAgICAgICAgICAgICBbMzkuNTY2MjM1OCwtNzguNjgwNzYyN10sCiAgICAgICAgICAgICAgICB7CiAgImJ1YmJsaW5nTW91c2VFdmVudHMiOiB0cnVlLAogICJjb2xvciI6ICJibHVlIiwKICAiZGFzaEFycmF5IjogbnVsbCwKICAiZGFzaE9mZnNldCI6IG51bGwsCiAgImZpbGwiOiB0cnVlLAogICJmaWxsQ29sb3IiOiAiI0FERDhFNiIsCiAgImZpbGxPcGFjaXR5IjogMC42LAogICJmaWxsUnVsZSI6ICJldmVub2RkIiwKICAibGluZUNhcCI6ICJyb3VuZCIsCiAgImxpbmVKb2luIjogInJvdW5kIiwKICAib3BhY2l0eSI6IDEuMCwKICAicmFkaXVzIjogNSwKICAic3Ryb2tlIjogdHJ1ZSwKICAid2VpZ2h0IjogMwp9CiAgICAgICAgICAgICAgICApLmFkZFRvKG1hcF80YmI4OGIzZDY1NzA0OTQ2YTU0NWJiYjc2ZjAwOTE0OCk7CiAgICAgICAgICAgIAogICAgCiAgICAgICAgICAgIHZhciBwb3B1cF9hYjIwOWM0ZmUwNzI0ZjgyYjdiNWZkM2FhYjJiNTMxNSA9IEwucG9wdXAoe21heFdpZHRoOiAnMzAwJ30pOwoKICAgICAgICAgICAgCiAgICAgICAgICAgICAgICB2YXIgaHRtbF9hOTljYmVhNzY1ZmY0M2QxOTc3MGU1NDk2M2Q4ZDY5NCA9ICQoJzxkaXYgaWQ9Imh0bWxfYTk5Y2JlYTc2NWZmNDNkMTk3NzBlNTQ5NjNkOGQ2OTQiIHN0eWxlPSJ3aWR0aDogMTAwLjAlOyBoZWlnaHQ6IDEwMC4wJTsiPlJlc3RvbiwgTUQ8L2Rpdj4nKVswXTsKICAgICAgICAgICAgICAgIHBvcHVwX2FiMjA5YzRmZTA3MjRmODJiN2I1ZmQzYWFiMmI1MzE1LnNldENvbnRlbnQoaHRtbF9hOTljYmVhNzY1ZmY0M2QxOTc3MGU1NDk2M2Q4ZDY5NCk7CiAgICAgICAgICAgIAoKICAgICAgICAgICAgY2lyY2xlX21hcmtlcl8wM2JkY2VkY2E0Nzc0ZDZlODU0ZjVhOGJkNGRjMGEwMi5iaW5kUG9wdXAocG9wdXBfYWIyMDljNGZlMDcyNGY4MmI3YjVmZDNhYWIyYjUzMTUpOwoKICAgICAgICAgICAgCiAgICAgICAgCiAgICAKICAgICAgICAgICAgdmFyIGNpcmNsZV9tYXJrZXJfMDE0NGU5NmMzODA4NDRlZjliYzRmYWJlMjRlYzk4YzQgPSBMLmNpcmNsZU1hcmtlcigKICAgICAgICAgICAgICAgIFszOS4wODQwMDU0LC03Ny4xNTI3NTczXSwKICAgICAgICAgICAgICAgIHsKICAiYnViYmxpbmdNb3VzZUV2ZW50cyI6IHRydWUsCiAgImNvbG9yIjogImJsdWUiLAogICJkYXNoQXJyYXkiOiBudWxsLAogICJkYXNoT2Zmc2V0IjogbnVsbCwKICAiZmlsbCI6IHRydWUsCiAgImZpbGxDb2xvciI6ICIjQUREOEU2IiwKICAiZmlsbE9wYWNpdHkiOiAwLjYsCiAgImZpbGxSdWxlIjogImV2ZW5vZGQiLAogICJsaW5lQ2FwIjogInJvdW5kIiwKICAibGluZUpvaW4iOiAicm91bmQiLAogICJvcGFjaXR5IjogMS4wLAogICJyYWRpdXMiOiA1LAogICJzdHJva2UiOiB0cnVlLAogICJ3ZWlnaHQiOiAzCn0KICAgICAgICAgICAgICAgICkuYWRkVG8obWFwXzRiYjg4YjNkNjU3MDQ5NDZhNTQ1YmJiNzZmMDA5MTQ4KTsKICAgICAgICAgICAgCiAgICAKICAgICAgICAgICAgdmFyIHBvcHVwXzY0Mzc5MDZiZTM0MDQ3NzlhMzI5MzVhY2UwOTg5Y2Y5ID0gTC5wb3B1cCh7bWF4V2lkdGg6ICczMDAnfSk7CgogICAgICAgICAgICAKICAgICAgICAgICAgICAgIHZhciBodG1sXzY1YTZhY2ZhNDZkYzQzMjU5NjAyYTQ0ZTRiZTM0ZDgwID0gJCgnPGRpdiBpZD0iaHRtbF82NWE2YWNmYTQ2ZGM0MzI1OTYwMmE0NGU0YmUzNGQ4MCIgc3R5bGU9IndpZHRoOiAxMDAuMCU7IGhlaWdodDogMTAwLjAlOyI+Um9ja3ZpbGxlLCBNRDwvZGl2PicpWzBdOwogICAgICAgICAgICAgICAgcG9wdXBfNjQzNzkwNmJlMzQwNDc3OWEzMjkzNWFjZTA5ODljZjkuc2V0Q29udGVudChodG1sXzY1YTZhY2ZhNDZkYzQzMjU5NjAyYTQ0ZTRiZTM0ZDgwKTsKICAgICAgICAgICAgCgogICAgICAgICAgICBjaXJjbGVfbWFya2VyXzAxNDRlOTZjMzgwODQ0ZWY5YmM0ZmFiZTI0ZWM5OGM0LmJpbmRQb3B1cChwb3B1cF82NDM3OTA2YmUzNDA0Nzc5YTMyOTM1YWNlMDk4OWNmOSk7CgogICAgICAgICAgICAKICAgICAgICAKICAgIAogICAgICAgICAgICB2YXIgY2lyY2xlX21hcmtlcl8zMmMxODNiZjZkN2Q0ZDA5YWU1MDRlOWMxOGEyOGZhMiA9IEwuY2lyY2xlTWFya2VyKAogICAgICAgICAgICAgICAgWzM4Ljk4MTk4NDUsLTc3LjEyNDIzNDEzMTE2MzkyXSwKICAgICAgICAgICAgICAgIHsKICAiYnViYmxpbmdNb3VzZUV2ZW50cyI6IHRydWUsCiAgImNvbG9yIjogImJsdWUiLAogICJkYXNoQXJyYXkiOiBudWxsLAogICJkYXNoT2Zmc2V0IjogbnVsbCwKICAiZmlsbCI6IHRydWUsCiAgImZpbGxDb2xvciI6ICIjQUREOEU2IiwKICAiZmlsbE9wYWNpdHkiOiAwLjYsCiAgImZpbGxSdWxlIjogImV2ZW5vZGQiLAogICJsaW5lQ2FwIjogInJvdW5kIiwKICAibGluZUpvaW4iOiAicm91bmQiLAogICJvcGFjaXR5IjogMS4wLAogICJyYWRpdXMiOiA1LAogICJzdHJva2UiOiB0cnVlLAogICJ3ZWlnaHQiOiAzCn0KICAgICAgICAgICAgICAgICkuYWRkVG8obWFwXzRiYjg4YjNkNjU3MDQ5NDZhNTQ1YmJiNzZmMDA5MTQ4KTsKICAgICAgICAgICAgCiAgICAKICAgICAgICAgICAgdmFyIHBvcHVwXzhhOTY3MDI5NzYzMjQ3MWM5NWVmNjU2ODU2NjVmODAxID0gTC5wb3B1cCh7bWF4V2lkdGg6ICczMDAnfSk7CgogICAgICAgICAgICAKICAgICAgICAgICAgICAgIHZhciBodG1sXzM2OTUxNDFlNjdlNjRiNTk4YjQyNjBmNzNlZmY5YWJjID0gJCgnPGRpdiBpZD0iaHRtbF8zNjk1MTQxZTY3ZTY0YjU5OGI0MjYwZjczZWZmOWFiYyIgc3R5bGU9IndpZHRoOiAxMDAuMCU7IGhlaWdodDogMTAwLjAlOyI+QmV0aGVzZGEsIE1EPC9kaXY+JylbMF07CiAgICAgICAgICAgICAgICBwb3B1cF84YTk2NzAyOTc2MzI0NzFjOTVlZjY1Njg1NjY1ZjgwMS5zZXRDb250ZW50KGh0bWxfMzY5NTE0MWU2N2U2NGI1OThiNDI2MGY3M2VmZjlhYmMpOwogICAgICAgICAgICAKCiAgICAgICAgICAgIGNpcmNsZV9tYXJrZXJfMzJjMTgzYmY2ZDdkNGQwOWFlNTA0ZTljMThhMjhmYTIuYmluZFBvcHVwKHBvcHVwXzhhOTY3MDI5NzYzMjQ3MWM5NWVmNjU2ODU2NjVmODAxKTsKCiAgICAgICAgICAgIAogICAgICAgIAogICAgCiAgICAgICAgICAgIHZhciBjaXJjbGVfbWFya2VyXzMzZjJkZGQ2NzU4YzRhZjNiZWQ0MTY3MmU0YzdhNDY3ID0gTC5jaXJjbGVNYXJrZXIoCiAgICAgICAgICAgICAgICBbMzguOTgyMjQ3MywtNzcuMDg4MTg3M10sCiAgICAgICAgICAgICAgICB7CiAgImJ1YmJsaW5nTW91c2VFdmVudHMiOiB0cnVlLAogICJjb2xvciI6ICJibHVlIiwKICAiZGFzaEFycmF5IjogbnVsbCwKICAiZGFzaE9mZnNldCI6IG51bGwsCiAgImZpbGwiOiB0cnVlLAogICJmaWxsQ29sb3IiOiAiI0FERDhFNiIsCiAgImZpbGxPcGFjaXR5IjogMC42LAogICJmaWxsUnVsZSI6ICJldmVub2RkIiwKICAibGluZUNhcCI6ICJyb3VuZCIsCiAgImxpbmVKb2luIjogInJvdW5kIiwKICAib3BhY2l0eSI6IDEuMCwKICAicmFkaXVzIjogNSwKICAic3Ryb2tlIjogdHJ1ZSwKICAid2VpZ2h0IjogMwp9CiAgICAgICAgICAgICAgICApLmFkZFRvKG1hcF80YmI4OGIzZDY1NzA0OTQ2YTU0NWJiYjc2ZjAwOTE0OCk7CiAgICAgICAgICAgIAogICAgCiAgICAgICAgICAgIHZhciBwb3B1cF8yOGI0ZjJlYWEwZTM0NzkwOGEwNTUxNGJlYmRiZGM1MSA9IEwucG9wdXAoe21heFdpZHRoOiAnMzAwJ30pOwoKICAgICAgICAgICAgCiAgICAgICAgICAgICAgICB2YXIgaHRtbF82ZjM3ZjNmMTZmY2I0MTNkYmU4OTgwNDRiOTI3NzA0NiA9ICQoJzxkaXYgaWQ9Imh0bWxfNmYzN2YzZjE2ZmNiNDEzZGJlODk4MDQ0YjkyNzcwNDYiIHN0eWxlPSJ3aWR0aDogMTAwLjAlOyBoZWlnaHQ6IDEwMC4wJTsiPkNoZXZ5IENoYXNlLCBNRDwvZGl2PicpWzBdOwogICAgICAgICAgICAgICAgcG9wdXBfMjhiNGYyZWFhMGUzNDc5MDhhMDU1MTRiZWJkYmRjNTEuc2V0Q29udGVudChodG1sXzZmMzdmM2YxNmZjYjQxM2RiZTg5ODA0NGI5Mjc3MDQ2KTsKICAgICAgICAgICAgCgogICAgICAgICAgICBjaXJjbGVfbWFya2VyXzMzZjJkZGQ2NzU4YzRhZjNiZWQ0MTY3MmU0YzdhNDY3LmJpbmRQb3B1cChwb3B1cF8yOGI0ZjJlYWEwZTM0NzkwOGEwNTUxNGJlYmRiZGM1MSk7CgogICAgICAgICAgICAKICAgICAgICAKICAgIAogICAgICAgICAgICB2YXIgY2lyY2xlX21hcmtlcl82ZjJjNmUyYTE2ZWQ0ZTFkODkwZjUyODNkNTQxYmVhNiA9IEwuY2lyY2xlTWFya2VyKAogICAgICAgICAgICAgICAgWzM5LjE2MjYyOTgsLTc2LjYyNTA3NTZdLAogICAgICAgICAgICAgICAgewogICJidWJibGluZ01vdXNlRXZlbnRzIjogdHJ1ZSwKICAiY29sb3IiOiAiYmx1ZSIsCiAgImRhc2hBcnJheSI6IG51bGwsCiAgImRhc2hPZmZzZXQiOiBudWxsLAogICJmaWxsIjogdHJ1ZSwKICAiZmlsbENvbG9yIjogIiNBREQ4RTYiLAogICJmaWxsT3BhY2l0eSI6IDAuNiwKICAiZmlsbFJ1bGUiOiAiZXZlbm9kZCIsCiAgImxpbmVDYXAiOiAicm91bmQiLAogICJsaW5lSm9pbiI6ICJyb3VuZCIsCiAgIm9wYWNpdHkiOiAxLjAsCiAgInJhZGl1cyI6IDUsCiAgInN0cm9rZSI6IHRydWUsCiAgIndlaWdodCI6IDMKfQogICAgICAgICAgICAgICAgKS5hZGRUbyhtYXBfNGJiODhiM2Q2NTcwNDk0NmE1NDViYmI3NmYwMDkxNDgpOwogICAgICAgICAgICAKICAgIAogICAgICAgICAgICB2YXIgcG9wdXBfZWVjZjE4OTJhNzJhNGUxZWFkM2I4NjExYzBjMDNhYjUgPSBMLnBvcHVwKHttYXhXaWR0aDogJzMwMCd9KTsKCiAgICAgICAgICAgIAogICAgICAgICAgICAgICAgdmFyIGh0bWxfYmM0OGMyYTBmZmZjNGRlZTlmZGRhMjZmYWE4ZmQwZGYgPSAkKCc8ZGl2IGlkPSJodG1sX2JjNDhjMmEwZmZmYzRkZWU5ZmRkYTI2ZmFhOGZkMGRmIiBzdHlsZT0id2lkdGg6IDEwMC4wJTsgaGVpZ2h0OiAxMDAuMCU7Ij5HbGVuIEJ1cm5pZSwgTUQ8L2Rpdj4nKVswXTsKICAgICAgICAgICAgICAgIHBvcHVwX2VlY2YxODkyYTcyYTRlMWVhZDNiODYxMWMwYzAzYWI1LnNldENvbnRlbnQoaHRtbF9iYzQ4YzJhMGZmZmM0ZGVlOWZkZGEyNmZhYThmZDBkZik7CiAgICAgICAgICAgIAoKICAgICAgICAgICAgY2lyY2xlX21hcmtlcl82ZjJjNmUyYTE2ZWQ0ZTFkODkwZjUyODNkNTQxYmVhNi5iaW5kUG9wdXAocG9wdXBfZWVjZjE4OTJhNzJhNGUxZWFkM2I4NjExYzBjMDNhYjUpOwoKICAgICAgICAgICAgCiAgICAgICAgCiAgICAKICAgICAgICAgICAgdmFyIGNpcmNsZV9tYXJrZXJfNmI1MTkyMTc2MDgxNGUxNWJlNjM4ZTI0YjUwNTYyOTYgPSBMLmNpcmNsZU1hcmtlcigKICAgICAgICAgICAgICAgIFszOS4wNjkyODg5LC03Ny4yNjI3MjY2XSwKICAgICAgICAgICAgICAgIHsKICAiYnViYmxpbmdNb3VzZUV2ZW50cyI6IHRydWUsCiAgImNvbG9yIjogImJsdWUiLAogICJkYXNoQXJyYXkiOiBudWxsLAogICJkYXNoT2Zmc2V0IjogbnVsbCwKICAiZmlsbCI6IHRydWUsCiAgImZpbGxDb2xvciI6ICIjQUREOEU2IiwKICAiZmlsbE9wYWNpdHkiOiAwLjYsCiAgImZpbGxSdWxlIjogImV2ZW5vZGQiLAogICJsaW5lQ2FwIjogInJvdW5kIiwKICAibGluZUpvaW4iOiAicm91bmQiLAogICJvcGFjaXR5IjogMS4wLAogICJyYWRpdXMiOiA1LAogICJzdHJva2UiOiB0cnVlLAogICJ3ZWlnaHQiOiAzCn0KICAgICAgICAgICAgICAgICkuYWRkVG8obWFwXzRiYjg4YjNkNjU3MDQ5NDZhNTQ1YmJiNzZmMDA5MTQ4KTsKICAgICAgICAgICAgCiAgICAKICAgICAgICAgICAgdmFyIHBvcHVwXzJhODg0YTM2YjNhNTRhN2NiNjM2ZTgyMGIxNTgwZTlmID0gTC5wb3B1cCh7bWF4V2lkdGg6ICczMDAnfSk7CgogICAgICAgICAgICAKICAgICAgICAgICAgICAgIHZhciBodG1sX2YzNzA2NjY1ZThlMDRlNjVhOTc4NTBhMjY0YjVlMTRiID0gJCgnPGRpdiBpZD0iaHRtbF9mMzcwNjY2NWU4ZTA0ZTY1YTk3ODUwYTI2NGI1ZTE0YiIgc3R5bGU9IndpZHRoOiAxMDAuMCU7IGhlaWdodDogMTAwLjAlOyI+VHJhdmlsYWgsIE1EPC9kaXY+JylbMF07CiAgICAgICAgICAgICAgICBwb3B1cF8yYTg4NGEzNmIzYTU0YTdjYjYzNmU4MjBiMTU4MGU5Zi5zZXRDb250ZW50KGh0bWxfZjM3MDY2NjVlOGUwNGU2NWE5Nzg1MGEyNjRiNWUxNGIpOwogICAgICAgICAgICAKCiAgICAgICAgICAgIGNpcmNsZV9tYXJrZXJfNmI1MTkyMTc2MDgxNGUxNWJlNjM4ZTI0YjUwNTYyOTYuYmluZFBvcHVwKHBvcHVwXzJhODg0YTM2YjNhNTRhN2NiNjM2ZTgyMGIxNTgwZTlmKTsKCiAgICAgICAgICAgIAogICAgICAgIAogICAgCiAgICAgICAgICAgIHZhciBjaXJjbGVfbWFya2VyXzRhOTQyYjE1NDBiMjRkNDQ4ZTQxNzE1MjBhNzY1ZGQwID0gTC5jaXJjbGVNYXJrZXIoCiAgICAgICAgICAgICAgICBbMzguOTk1OTQ2MSwtNzcuMDI3NjIzMV0sCiAgICAgICAgICAgICAgICB7CiAgImJ1YmJsaW5nTW91c2VFdmVudHMiOiB0cnVlLAogICJjb2xvciI6ICJibHVlIiwKICAiZGFzaEFycmF5IjogbnVsbCwKICAiZGFzaE9mZnNldCI6IG51bGwsCiAgImZpbGwiOiB0cnVlLAogICJmaWxsQ29sb3IiOiAiI0FERDhFNiIsCiAgImZpbGxPcGFjaXR5IjogMC42LAogICJmaWxsUnVsZSI6ICJldmVub2RkIiwKICAibGluZUNhcCI6ICJyb3VuZCIsCiAgImxpbmVKb2luIjogInJvdW5kIiwKICAib3BhY2l0eSI6IDEuMCwKICAicmFkaXVzIjogNSwKICAic3Ryb2tlIjogdHJ1ZSwKICAid2VpZ2h0IjogMwp9CiAgICAgICAgICAgICAgICApLmFkZFRvKG1hcF80YmI4OGIzZDY1NzA0OTQ2YTU0NWJiYjc2ZjAwOTE0OCk7CiAgICAgICAgICAgIAogICAgCiAgICAgICAgICAgIHZhciBwb3B1cF81ZTIwYTk2ZTNlYmU0ODQ0OWYyMTA2YWE3ZmIzNDYzMyA9IEwucG9wdXAoe21heFdpZHRoOiAnMzAwJ30pOwoKICAgICAgICAgICAgCiAgICAgICAgICAgICAgICB2YXIgaHRtbF9jNTc2ZmZhZTYwMmI0MjI0ODA3YThiZDlhZDg5M2RmMiA9ICQoJzxkaXYgaWQ9Imh0bWxfYzU3NmZmYWU2MDJiNDIyNDgwN2E4YmQ5YWQ4OTNkZjIiIHN0eWxlPSJ3aWR0aDogMTAwLjAlOyBoZWlnaHQ6IDEwMC4wJTsiPlNpbHZlciBTcHJpbmcsIE1EPC9kaXY+JylbMF07CiAgICAgICAgICAgICAgICBwb3B1cF81ZTIwYTk2ZTNlYmU0ODQ0OWYyMTA2YWE3ZmIzNDYzMy5zZXRDb250ZW50KGh0bWxfYzU3NmZmYWU2MDJiNDIyNDgwN2E4YmQ5YWQ4OTNkZjIpOwogICAgICAgICAgICAKCiAgICAgICAgICAgIGNpcmNsZV9tYXJrZXJfNGE5NDJiMTU0MGIyNGQ0NDhlNDE3MTUyMGE3NjVkZDAuYmluZFBvcHVwKHBvcHVwXzVlMjBhOTZlM2ViZTQ4NDQ5ZjIxMDZhYTdmYjM0NjMzKTsKCiAgICAgICAgICAgIAogICAgICAgIAogICAgCiAgICAgICAgICAgIHZhciBjaXJjbGVfbWFya2VyXzVhMDJhZTMwMTE1ZTQ1NjFiODg5ODYwN2JiZDMyMGIxID0gTC5jaXJjbGVNYXJrZXIoCiAgICAgICAgICAgICAgICBbMzguOTgwNjY2LC03Ni45MzY5MTg5XSwKICAgICAgICAgICAgICAgIHsKICAiYnViYmxpbmdNb3VzZUV2ZW50cyI6IHRydWUsCiAgImNvbG9yIjogImJsdWUiLAogICJkYXNoQXJyYXkiOiBudWxsLAogICJkYXNoT2Zmc2V0IjogbnVsbCwKICAiZmlsbCI6IHRydWUsCiAgImZpbGxDb2xvciI6ICIjQUREOEU2IiwKICAiZmlsbE9wYWNpdHkiOiAwLjYsCiAgImZpbGxSdWxlIjogImV2ZW5vZGQiLAogICJsaW5lQ2FwIjogInJvdW5kIiwKICAibGluZUpvaW4iOiAicm91bmQiLAogICJvcGFjaXR5IjogMS4wLAogICJyYWRpdXMiOiA1LAogICJzdHJva2UiOiB0cnVlLAogICJ3ZWlnaHQiOiAzCn0KICAgICAgICAgICAgICAgICkuYWRkVG8obWFwXzRiYjg4YjNkNjU3MDQ5NDZhNTQ1YmJiNzZmMDA5MTQ4KTsKICAgICAgICAgICAgCiAgICAKICAgICAgICAgICAgdmFyIHBvcHVwXzM3NTJiOTU1ZGVhNzQ1MmJhNGQ2ZGZiZTZjYWM2ZGUxID0gTC5wb3B1cCh7bWF4V2lkdGg6ICczMDAnfSk7CgogICAgICAgICAgICAKICAgICAgICAgICAgICAgIHZhciBodG1sXzZkODlkNGFmMzZmYzRjYmY5YmIyOGNjMTRhZmUwZmZkID0gJCgnPGRpdiBpZD0iaHRtbF82ZDg5ZDRhZjM2ZmM0Y2JmOWJiMjhjYzE0YWZlMGZmZCIgc3R5bGU9IndpZHRoOiAxMDAuMCU7IGhlaWdodDogMTAwLjAlOyI+Q29sbGVnZSBQYXJrLCBNRDwvZGl2PicpWzBdOwogICAgICAgICAgICAgICAgcG9wdXBfMzc1MmI5NTVkZWE3NDUyYmE0ZDZkZmJlNmNhYzZkZTEuc2V0Q29udGVudChodG1sXzZkODlkNGFmMzZmYzRjYmY5YmIyOGNjMTRhZmUwZmZkKTsKICAgICAgICAgICAgCgogICAgICAgICAgICBjaXJjbGVfbWFya2VyXzVhMDJhZTMwMTE1ZTQ1NjFiODg5ODYwN2JiZDMyMGIxLmJpbmRQb3B1cChwb3B1cF8zNzUyYjk1NWRlYTc0NTJiYTRkNmRmYmU2Y2FjNmRlMSk7CgogICAgICAgICAgICAKICAgICAgICAKICAgIAogICAgICAgICAgICB2YXIgY2lyY2xlX21hcmtlcl83NTc4ODEwNzlmYjI0NzQ0YThmMDg0MDRjZWQyZGJmNCA9IEwuY2lyY2xlTWFya2VyKAogICAgICAgICAgICAgICAgWzM4LjYyNjM4ODIsLTc2LjkxMDY1ODFdLAogICAgICAgICAgICAgICAgewogICJidWJibGluZ01vdXNlRXZlbnRzIjogdHJ1ZSwKICAiY29sb3IiOiAiYmx1ZSIsCiAgImRhc2hBcnJheSI6IG51bGwsCiAgImRhc2hPZmZzZXQiOiBudWxsLAogICJmaWxsIjogdHJ1ZSwKICAiZmlsbENvbG9yIjogIiNBREQ4RTYiLAogICJmaWxsT3BhY2l0eSI6IDAuNiwKICAiZmlsbFJ1bGUiOiAiZXZlbm9kZCIsCiAgImxpbmVDYXAiOiAicm91bmQiLAogICJsaW5lSm9pbiI6ICJyb3VuZCIsCiAgIm9wYWNpdHkiOiAxLjAsCiAgInJhZGl1cyI6IDUsCiAgInN0cm9rZSI6IHRydWUsCiAgIndlaWdodCI6IDMKfQogICAgICAgICAgICAgICAgKS5hZGRUbyhtYXBfNGJiODhiM2Q2NTcwNDk0NmE1NDViYmI3NmYwMDkxNDgpOwogICAgICAgICAgICAKICAgIAogICAgICAgICAgICB2YXIgcG9wdXBfOTg4MDdkOTM0NTZkNDk4MzhmNDUxYmMzZGRjZDkwMzUgPSBMLnBvcHVwKHttYXhXaWR0aDogJzMwMCd9KTsKCiAgICAgICAgICAgIAogICAgICAgICAgICAgICAgdmFyIGh0bWxfN2I1ZWE1ZjgwOTg0NDAzMmE1MmViMjMyZjFhMGU2ZGEgPSAkKCc8ZGl2IGlkPSJodG1sXzdiNWVhNWY4MDk4NDQwMzJhNTJlYjIzMmYxYTBlNmRhIiBzdHlsZT0id2lkdGg6IDEwMC4wJTsgaGVpZ2h0OiAxMDAuMCU7Ij5XYWxkb3JmLCBNRDwvZGl2PicpWzBdOwogICAgICAgICAgICAgICAgcG9wdXBfOTg4MDdkOTM0NTZkNDk4MzhmNDUxYmMzZGRjZDkwMzUuc2V0Q29udGVudChodG1sXzdiNWVhNWY4MDk4NDQwMzJhNTJlYjIzMmYxYTBlNmRhKTsKICAgICAgICAgICAgCgogICAgICAgICAgICBjaXJjbGVfbWFya2VyXzc1Nzg4MTA3OWZiMjQ3NDRhOGYwODQwNGNlZDJkYmY0LmJpbmRQb3B1cChwb3B1cF85ODgwN2Q5MzQ1NmQ0OTgzOGY0NTFiYzNkZGNkOTAzNSk7CgogICAgICAgICAgICAKICAgICAgICAKICAgIAogICAgICAgICAgICB2YXIgY2lyY2xlX21hcmtlcl82M2VhMzk5Nzk2ZjU0MTliOGI2YjI2ZjRhZDE2OTkzYyA9IEwuY2lyY2xlTWFya2VyKAogICAgICAgICAgICAgICAgWzM5LjQyMTIxNzUsLTc2LjYyNjA4MDVdLAogICAgICAgICAgICAgICAgewogICJidWJibGluZ01vdXNlRXZlbnRzIjogdHJ1ZSwKICAiY29sb3IiOiAiYmx1ZSIsCiAgImRhc2hBcnJheSI6IG51bGwsCiAgImRhc2hPZmZzZXQiOiBudWxsLAogICJmaWxsIjogdHJ1ZSwKICAiZmlsbENvbG9yIjogIiNBREQ4RTYiLAogICJmaWxsT3BhY2l0eSI6IDAuNiwKICAiZmlsbFJ1bGUiOiAiZXZlbm9kZCIsCiAgImxpbmVDYXAiOiAicm91bmQiLAogICJsaW5lSm9pbiI6ICJyb3VuZCIsCiAgIm9wYWNpdHkiOiAxLjAsCiAgInJhZGl1cyI6IDUsCiAgInN0cm9rZSI6IHRydWUsCiAgIndlaWdodCI6IDMKfQogICAgICAgICAgICAgICAgKS5hZGRUbyhtYXBfNGJiODhiM2Q2NTcwNDk0NmE1NDViYmI3NmYwMDkxNDgpOwogICAgICAgICAgICAKICAgIAogICAgICAgICAgICB2YXIgcG9wdXBfYWE2NjBlNzc1N2I3NGE0OWExNjcxZjIwNGE5MzAzOTIgPSBMLnBvcHVwKHttYXhXaWR0aDogJzMwMCd9KTsKCiAgICAgICAgICAgIAogICAgICAgICAgICAgICAgdmFyIGh0bWxfNGIyODQ4MTkyZWZjNGFkZDhiOTJiNTYzZGI2YWRkZmUgPSAkKCc8ZGl2IGlkPSJodG1sXzRiMjg0ODE5MmVmYzRhZGQ4YjkyYjU2M2RiNmFkZGZlIiBzdHlsZT0id2lkdGg6IDEwMC4wJTsgaGVpZ2h0OiAxMDAuMCU7Ij5MdXRoZXJ2aWxsZS1UaW1vbml1bSwgTUQ8L2Rpdj4nKVswXTsKICAgICAgICAgICAgICAgIHBvcHVwX2FhNjYwZTc3NTdiNzRhNDlhMTY3MWYyMDRhOTMwMzkyLnNldENvbnRlbnQoaHRtbF80YjI4NDgxOTJlZmM0YWRkOGI5MmI1NjNkYjZhZGRmZSk7CiAgICAgICAgICAgIAoKICAgICAgICAgICAgY2lyY2xlX21hcmtlcl82M2VhMzk5Nzk2ZjU0MTliOGI2YjI2ZjRhZDE2OTkzYy5iaW5kUG9wdXAocG9wdXBfYWE2NjBlNzc1N2I3NGE0OWExNjcxZjIwNGE5MzAzOTIpOwoKICAgICAgICAgICAgCiAgICAgICAgCiAgICAKICAgICAgICAgICAgdmFyIGNpcmNsZV9tYXJrZXJfNGMwMmY3OTJiNmJlNGU5ZWFhY2Y4NzFiNDI4N2QwNTkgPSBMLmNpcmNsZU1hcmtlcigKICAgICAgICAgICAgICAgIFszOS4yMTQzOTc0LC03Ni44NjQ1ODkzXSwKICAgICAgICAgICAgICAgIHsKICAiYnViYmxpbmdNb3VzZUV2ZW50cyI6IHRydWUsCiAgImNvbG9yIjogImJsdWUiLAogICJkYXNoQXJyYXkiOiBudWxsLAogICJkYXNoT2Zmc2V0IjogbnVsbCwKICAiZmlsbCI6IHRydWUsCiAgImZpbGxDb2xvciI6ICIjQUREOEU2IiwKICAiZmlsbE9wYWNpdHkiOiAwLjYsCiAgImZpbGxSdWxlIjogImV2ZW5vZGQiLAogICJsaW5lQ2FwIjogInJvdW5kIiwKICAibGluZUpvaW4iOiAicm91bmQiLAogICJvcGFjaXR5IjogMS4wLAogICJyYWRpdXMiOiA1LAogICJzdHJva2UiOiB0cnVlLAogICJ3ZWlnaHQiOiAzCn0KICAgICAgICAgICAgICAgICkuYWRkVG8obWFwXzRiYjg4YjNkNjU3MDQ5NDZhNTQ1YmJiNzZmMDA5MTQ4KTsKICAgICAgICAgICAgCiAgICAKICAgICAgICAgICAgdmFyIHBvcHVwXzM1YjdlNWIyYmEyYjRlZDE4MzQ4YWQzOWY2ZGM5ZTA4ID0gTC5wb3B1cCh7bWF4V2lkdGg6ICczMDAnfSk7CgogICAgICAgICAgICAKICAgICAgICAgICAgICAgIHZhciBodG1sX2IzOWE2NWUzOTVkMzRmMGVhYmUwNDdlNWUzMjdiZjI1ID0gJCgnPGRpdiBpZD0iaHRtbF9iMzlhNjVlMzk1ZDM0ZjBlYWJlMDQ3ZTVlMzI3YmYyNSIgc3R5bGU9IndpZHRoOiAxMDAuMCU7IGhlaWdodDogMTAwLjAlOyI+Q29sdW1iaWEgVG93biBDZW50ZXIsIE1EPC9kaXY+JylbMF07CiAgICAgICAgICAgICAgICBwb3B1cF8zNWI3ZTViMmJhMmI0ZWQxODM0OGFkMzlmNmRjOWUwOC5zZXRDb250ZW50KGh0bWxfYjM5YTY1ZTM5NWQzNGYwZWFiZTA0N2U1ZTMyN2JmMjUpOwogICAgICAgICAgICAKCiAgICAgICAgICAgIGNpcmNsZV9tYXJrZXJfNGMwMmY3OTJiNmJlNGU5ZWFhY2Y4NzFiNDI4N2QwNTkuYmluZFBvcHVwKHBvcHVwXzM1YjdlNWIyYmEyYjRlZDE4MzQ4YWQzOWY2ZGM5ZTA4KTsKCiAgICAgICAgICAgIAogICAgICAgIAogICAgCiAgICAgICAgICAgIHZhciBjaXJjbGVfbWFya2VyXzc3ODM1YjY5ZmIzOTRjNjViZDNiYjVlNGQzZDVkNzkzID0gTC5jaXJjbGVNYXJrZXIoCiAgICAgICAgICAgICAgICBbMzkuMzc0NTAzNSwtNzYuNzIyNzI4OF0sCiAgICAgICAgICAgICAgICB7CiAgImJ1YmJsaW5nTW91c2VFdmVudHMiOiB0cnVlLAogICJjb2xvciI6ICJibHVlIiwKICAiZGFzaEFycmF5IjogbnVsbCwKICAiZGFzaE9mZnNldCI6IG51bGwsCiAgImZpbGwiOiB0cnVlLAogICJmaWxsQ29sb3IiOiAiI0FERDhFNiIsCiAgImZpbGxPcGFjaXR5IjogMC42LAogICJmaWxsUnVsZSI6ICJldmVub2RkIiwKICAibGluZUNhcCI6ICJyb3VuZCIsCiAgImxpbmVKb2luIjogInJvdW5kIiwKICAib3BhY2l0eSI6IDEuMCwKICAicmFkaXVzIjogNSwKICAic3Ryb2tlIjogdHJ1ZSwKICAid2VpZ2h0IjogMwp9CiAgICAgICAgICAgICAgICApLmFkZFRvKG1hcF80YmI4OGIzZDY1NzA0OTQ2YTU0NWJiYjc2ZjAwOTE0OCk7CiAgICAgICAgICAgIAogICAgCiAgICAgICAgICAgIHZhciBwb3B1cF9iOTUxMzdlOWVjNzQ0NmQyYmFhYmNmMjFlOWZjMDg2MiA9IEwucG9wdXAoe21heFdpZHRoOiAnMzAwJ30pOwoKICAgICAgICAgICAgCiAgICAgICAgICAgICAgICB2YXIgaHRtbF8zN2ZkZTdkNDBhZmY0ZGEzYThhMWVkODAxYmQ3ZWIyOSA9ICQoJzxkaXYgaWQ9Imh0bWxfMzdmZGU3ZDQwYWZmNGRhM2E4YTFlZDgwMWJkN2ViMjkiIHN0eWxlPSJ3aWR0aDogMTAwLjAlOyBoZWlnaHQ6IDEwMC4wJTsiPlBpa2VzdmlsbGUsIE1EPC9kaXY+JylbMF07CiAgICAgICAgICAgICAgICBwb3B1cF9iOTUxMzdlOWVjNzQ0NmQyYmFhYmNmMjFlOWZjMDg2Mi5zZXRDb250ZW50KGh0bWxfMzdmZGU3ZDQwYWZmNGRhM2E4YTFlZDgwMWJkN2ViMjkpOwogICAgICAgICAgICAKCiAgICAgICAgICAgIGNpcmNsZV9tYXJrZXJfNzc4MzViNjlmYjM5NGM2NWJkM2JiNWU0ZDNkNWQ3OTMuYmluZFBvcHVwKHBvcHVwX2I5NTEzN2U5ZWM3NDQ2ZDJiYWFiY2YyMWU5ZmMwODYyKTsKCiAgICAgICAgICAgIAogICAgICAgIAogICAgCiAgICAgICAgICAgIHZhciBjaXJjbGVfbWFya2VyXzEwMGQ0ZjNiODNkNDQ0ZjNhYTk0ZmYzMGI4ZjU5NDc0ID0gTC5jaXJjbGVNYXJrZXIoCiAgICAgICAgICAgICAgICBbMzkuMTUzMjEyMywtNzcuMDY2ODQwOF0sCiAgICAgICAgICAgICAgICB7CiAgImJ1YmJsaW5nTW91c2VFdmVudHMiOiB0cnVlLAogICJjb2xvciI6ICJibHVlIiwKICAiZGFzaEFycmF5IjogbnVsbCwKICAiZGFzaE9mZnNldCI6IG51bGwsCiAgImZpbGwiOiB0cnVlLAogICJmaWxsQ29sb3IiOiAiI0FERDhFNiIsCiAgImZpbGxPcGFjaXR5IjogMC42LAogICJmaWxsUnVsZSI6ICJldmVub2RkIiwKICAibGluZUNhcCI6ICJyb3VuZCIsCiAgImxpbmVKb2luIjogInJvdW5kIiwKICAib3BhY2l0eSI6IDEuMCwKICAicmFkaXVzIjogNSwKICAic3Ryb2tlIjogdHJ1ZSwKICAid2VpZ2h0IjogMwp9CiAgICAgICAgICAgICAgICApLmFkZFRvKG1hcF80YmI4OGIzZDY1NzA0OTQ2YTU0NWJiYjc2ZjAwOTE0OCk7CiAgICAgICAgICAgIAogICAgCiAgICAgICAgICAgIHZhciBwb3B1cF84NTk3ZWI5NzI4NDc0MjM3ODliMThhMDllN2ZiMzc3MSA9IEwucG9wdXAoe21heFdpZHRoOiAnMzAwJ30pOwoKICAgICAgICAgICAgCiAgICAgICAgICAgICAgICB2YXIgaHRtbF8wYzdlMmM3MDQ1M2M0NmQzYWU1MDY0YzA1ZDY1ZTczOSA9ICQoJzxkaXYgaWQ9Imh0bWxfMGM3ZTJjNzA0NTNjNDZkM2FlNTA2NGMwNWQ2NWU3MzkiIHN0eWxlPSJ3aWR0aDogMTAwLjAlOyBoZWlnaHQ6IDEwMC4wJTsiPk9sbmV5LCBNRDwvZGl2PicpWzBdOwogICAgICAgICAgICAgICAgcG9wdXBfODU5N2ViOTcyODQ3NDIzNzg5YjE4YTA5ZTdmYjM3NzEuc2V0Q29udGVudChodG1sXzBjN2UyYzcwNDUzYzQ2ZDNhZTUwNjRjMDVkNjVlNzM5KTsKICAgICAgICAgICAgCgogICAgICAgICAgICBjaXJjbGVfbWFya2VyXzEwMGQ0ZjNiODNkNDQ0ZjNhYTk0ZmYzMGI4ZjU5NDc0LmJpbmRQb3B1cChwb3B1cF84NTk3ZWI5NzI4NDc0MjM3ODliMThhMDllN2ZiMzc3MSk7CgogICAgICAgICAgICAKICAgICAgICAKICAgIAogICAgICAgICAgICB2YXIgY2lyY2xlX21hcmtlcl8wMThiNWFkMDk4ZDc0NjMxOWM5NzZkNTQ3NmRmZDZjZCA9IEwuY2lyY2xlTWFya2VyKAogICAgICAgICAgICAgICAgWzM5LjE0NTkzOTIsLTc3LjQxNjkzMTFdLAogICAgICAgICAgICAgICAgewogICJidWJibGluZ01vdXNlRXZlbnRzIjogdHJ1ZSwKICAiY29sb3IiOiAiYmx1ZSIsCiAgImRhc2hBcnJheSI6IG51bGwsCiAgImRhc2hPZmZzZXQiOiBudWxsLAogICJmaWxsIjogdHJ1ZSwKICAiZmlsbENvbG9yIjogIiNBREQ4RTYiLAogICJmaWxsT3BhY2l0eSI6IDAuNiwKICAiZmlsbFJ1bGUiOiAiZXZlbm9kZCIsCiAgImxpbmVDYXAiOiAicm91bmQiLAogICJsaW5lSm9pbiI6ICJyb3VuZCIsCiAgIm9wYWNpdHkiOiAxLjAsCiAgInJhZGl1cyI6IDUsCiAgInN0cm9rZSI6IHRydWUsCiAgIndlaWdodCI6IDMKfQogICAgICAgICAgICAgICAgKS5hZGRUbyhtYXBfNGJiODhiM2Q2NTcwNDk0NmE1NDViYmI3NmYwMDkxNDgpOwogICAgICAgICAgICAKICAgIAogICAgICAgICAgICB2YXIgcG9wdXBfMjE2ZmM1NmI5ZjkyNGMxMjg3ZTMyNzdkNjNlYWZhNjkgPSBMLnBvcHVwKHttYXhXaWR0aDogJzMwMCd9KTsKCiAgICAgICAgICAgIAogICAgICAgICAgICAgICAgdmFyIGh0bWxfYmZiOTlmYjY2NGE5NGZhMWFiNDY3NTJlMzU3MmRiYjIgPSAkKCc8ZGl2IGlkPSJodG1sX2JmYjk5ZmI2NjRhOTRmYTFhYjQ2NzUyZTM1NzJkYmIyIiBzdHlsZT0id2lkdGg6IDEwMC4wJTsgaGVpZ2h0OiAxMDAuMCU7Ij5Qb29sZXN2aWxsZSwgTUQ8L2Rpdj4nKVswXTsKICAgICAgICAgICAgICAgIHBvcHVwXzIxNmZjNTZiOWY5MjRjMTI4N2UzMjc3ZDYzZWFmYTY5LnNldENvbnRlbnQoaHRtbF9iZmI5OWZiNjY0YTk0ZmExYWI0Njc1MmUzNTcyZGJiMik7CiAgICAgICAgICAgIAoKICAgICAgICAgICAgY2lyY2xlX21hcmtlcl8wMThiNWFkMDk4ZDc0NjMxOWM5NzZkNTQ3NmRmZDZjZC5iaW5kUG9wdXAocG9wdXBfMjE2ZmM1NmI5ZjkyNGMxMjg3ZTMyNzdkNjNlYWZhNjkpOwoKICAgICAgICAgICAgCiAgICAgICAgCiAgICAKICAgICAgICAgICAgdmFyIGNpcmNsZV9tYXJrZXJfYjZiNjA3ODM4NDVmNGVjZWE4MjM5ZDE1YzkyZGU3OTMgPSBMLmNpcmNsZU1hcmtlcigKICAgICAgICAgICAgICAgIFszOC43NzQ0OTUyLC03Ni4wNzYzMDY1XSwKICAgICAgICAgICAgICAgIHsKICAiYnViYmxpbmdNb3VzZUV2ZW50cyI6IHRydWUsCiAgImNvbG9yIjogImJsdWUiLAogICJkYXNoQXJyYXkiOiBudWxsLAogICJkYXNoT2Zmc2V0IjogbnVsbCwKICAiZmlsbCI6IHRydWUsCiAgImZpbGxDb2xvciI6ICIjQUREOEU2IiwKICAiZmlsbE9wYWNpdHkiOiAwLjYsCiAgImZpbGxSdWxlIjogImV2ZW5vZGQiLAogICJsaW5lQ2FwIjogInJvdW5kIiwKICAibGluZUpvaW4iOiAicm91bmQiLAogICJvcGFjaXR5IjogMS4wLAogICJyYWRpdXMiOiA1LAogICJzdHJva2UiOiB0cnVlLAogICJ3ZWlnaHQiOiAzCn0KICAgICAgICAgICAgICAgICkuYWRkVG8obWFwXzRiYjg4YjNkNjU3MDQ5NDZhNTQ1YmJiNzZmMDA5MTQ4KTsKICAgICAgICAgICAgCiAgICAKICAgICAgICAgICAgdmFyIHBvcHVwX2U5YzU0NDg5ZTU3ZjQ0ZThhZDFhY2FiNDZkYzU1NWZmID0gTC5wb3B1cCh7bWF4V2lkdGg6ICczMDAnfSk7CgogICAgICAgICAgICAKICAgICAgICAgICAgICAgIHZhciBodG1sX2FiOGU1MWI2MGIyODRkNDRhNGY3OGM4MTVjMDU2M2I3ID0gJCgnPGRpdiBpZD0iaHRtbF9hYjhlNTFiNjBiMjg0ZDQ0YTRmNzhjODE1YzA1NjNiNyIgc3R5bGU9IndpZHRoOiAxMDAuMCU7IGhlaWdodDogMTAwLjAlOyI+RWFzdG9uLCBNRDwvZGl2PicpWzBdOwogICAgICAgICAgICAgICAgcG9wdXBfZTljNTQ0ODllNTdmNDRlOGFkMWFjYWI0NmRjNTU1ZmYuc2V0Q29udGVudChodG1sX2FiOGU1MWI2MGIyODRkNDRhNGY3OGM4MTVjMDU2M2I3KTsKICAgICAgICAgICAgCgogICAgICAgICAgICBjaXJjbGVfbWFya2VyX2I2YjYwNzgzODQ1ZjRlY2VhODIzOWQxNWM5MmRlNzkzLmJpbmRQb3B1cChwb3B1cF9lOWM1NDQ4OWU1N2Y0NGU4YWQxYWNhYjQ2ZGM1NTVmZik7CgogICAgICAgICAgICAKICAgICAgICAKICAgIAogICAgICAgICAgICB2YXIgY2lyY2xlX21hcmtlcl9jMGU4OTM4ZGM3MzY0ZjIzODRiZTA0NzM0NzY1YjFhOCA9IEwuY2lyY2xlTWFya2VyKAogICAgICAgICAgICAgICAgWzM5LjM3OTI3MzUsLTc2LjU3MzNdLAogICAgICAgICAgICAgICAgewogICJidWJibGluZ01vdXNlRXZlbnRzIjogdHJ1ZSwKICAiY29sb3IiOiAiYmx1ZSIsCiAgImRhc2hBcnJheSI6IG51bGwsCiAgImRhc2hPZmZzZXQiOiBudWxsLAogICJmaWxsIjogdHJ1ZSwKICAiZmlsbENvbG9yIjogIiNBREQ4RTYiLAogICJmaWxsT3BhY2l0eSI6IDAuNiwKICAiZmlsbFJ1bGUiOiAiZXZlbm9kZCIsCiAgImxpbmVDYXAiOiAicm91bmQiLAogICJsaW5lSm9pbiI6ICJyb3VuZCIsCiAgIm9wYWNpdHkiOiAxLjAsCiAgInJhZGl1cyI6IDUsCiAgInN0cm9rZSI6IHRydWUsCiAgIndlaWdodCI6IDMKfQogICAgICAgICAgICAgICAgKS5hZGRUbyhtYXBfNGJiODhiM2Q2NTcwNDk0NmE1NDViYmI3NmYwMDkxNDgpOwogICAgICAgICAgICAKICAgIAogICAgICAgICAgICB2YXIgcG9wdXBfYTI2ZTBiZjkwMzNiNDYxNmI2MDU3NDgzOTljODgzM2UgPSBMLnBvcHVwKHttYXhXaWR0aDogJzMwMCd9KTsKCiAgICAgICAgICAgIAogICAgICAgICAgICAgICAgdmFyIGh0bWxfYjVjMmY3N2VjOTUwNDdiNDk3ZTYwZGExOGM2MGFhYmMgPSAkKCc8ZGl2IGlkPSJodG1sX2I1YzJmNzdlYzk1MDQ3YjQ5N2U2MGRhMThjNjBhYWJjIiBzdHlsZT0id2lkdGg6IDEwMC4wJTsgaGVpZ2h0OiAxMDAuMCU7Ij5Bc2hsYXIgSGlsbCwgTUQ8L2Rpdj4nKVswXTsKICAgICAgICAgICAgICAgIHBvcHVwX2EyNmUwYmY5MDMzYjQ2MTZiNjA1NzQ4Mzk5Yzg4MzNlLnNldENvbnRlbnQoaHRtbF9iNWMyZjc3ZWM5NTA0N2I0OTdlNjBkYTE4YzYwYWFiYyk7CiAgICAgICAgICAgIAoKICAgICAgICAgICAgY2lyY2xlX21hcmtlcl9jMGU4OTM4ZGM3MzY0ZjIzODRiZTA0NzM0NzY1YjFhOC5iaW5kUG9wdXAocG9wdXBfYTI2ZTBiZjkwMzNiNDYxNmI2MDU3NDgzOTljODgzM2UpOwoKICAgICAgICAgICAgCiAgICAgICAgCiAgICAKICAgICAgICAgICAgdmFyIGNpcmNsZV9tYXJrZXJfYmM2NDE2NmRlNThmNGJiMzg4OTZhOTY2NDE2ZjE1NzkgPSBMLmNpcmNsZU1hcmtlcigKICAgICAgICAgICAgICAgIFszOS4zODE5MzM4LC03Ni40NTczMDRdLAogICAgICAgICAgICAgICAgewogICJidWJibGluZ01vdXNlRXZlbnRzIjogdHJ1ZSwKICAiY29sb3IiOiAiYmx1ZSIsCiAgImRhc2hBcnJheSI6IG51bGwsCiAgImRhc2hPZmZzZXQiOiBudWxsLAogICJmaWxsIjogdHJ1ZSwKICAiZmlsbENvbG9yIjogIiNBREQ4RTYiLAogICJmaWxsT3BhY2l0eSI6IDAuNiwKICAiZmlsbFJ1bGUiOiAiZXZlbm9kZCIsCiAgImxpbmVDYXAiOiAicm91bmQiLAogICJsaW5lSm9pbiI6ICJyb3VuZCIsCiAgIm9wYWNpdHkiOiAxLjAsCiAgInJhZGl1cyI6IDUsCiAgInN0cm9rZSI6IHRydWUsCiAgIndlaWdodCI6IDMKfQogICAgICAgICAgICAgICAgKS5hZGRUbyhtYXBfNGJiODhiM2Q2NTcwNDk0NmE1NDViYmI3NmYwMDkxNDgpOwogICAgICAgICAgICAKICAgIAogICAgICAgICAgICB2YXIgcG9wdXBfYjczYWRhOTc5ZDkwNGE1Zjk5N2FmODc0Yzg4MmE0YzIgPSBMLnBvcHVwKHttYXhXaWR0aDogJzMwMCd9KTsKCiAgICAgICAgICAgIAogICAgICAgICAgICAgICAgdmFyIGh0bWxfZTg5YzFjYTIxMDQ3NGZjOWE0ZDY0MjdkMjBjYjhlMzEgPSAkKCc8ZGl2IGlkPSJodG1sX2U4OWMxY2EyMTA0NzRmYzlhNGQ2NDI3ZDIwY2I4ZTMxIiBzdHlsZT0id2lkdGg6IDEwMC4wJTsgaGVpZ2h0OiAxMDAuMCU7Ij5XaGl0ZSBNYXJzaCwgTUQ8L2Rpdj4nKVswXTsKICAgICAgICAgICAgICAgIHBvcHVwX2I3M2FkYTk3OWQ5MDRhNWY5OTdhZjg3NGM4ODJhNGMyLnNldENvbnRlbnQoaHRtbF9lODljMWNhMjEwNDc0ZmM5YTRkNjQyN2QyMGNiOGUzMSk7CiAgICAgICAgICAgIAoKICAgICAgICAgICAgY2lyY2xlX21hcmtlcl9iYzY0MTY2ZGU1OGY0YmIzODg5NmE5NjY0MTZmMTU3OS5iaW5kUG9wdXAocG9wdXBfYjczYWRhOTc5ZDkwNGE1Zjk5N2FmODc0Yzg4MmE0YzIpOwoKICAgICAgICAgICAgCiAgICAgICAgCiAgICAKICAgICAgICAgICAgdmFyIGNpcmNsZV9tYXJrZXJfZThjZjkzZmJmOWUzNDUzYTg5YjI0MDhlM2U4YTMzZWMgPSBMLmNpcmNsZU1hcmtlcigKICAgICAgICAgICAgICAgIFszOC45NTgzNzM3LC03Ny4zNTc5ODA1XSwKICAgICAgICAgICAgICAgIHsKICAiYnViYmxpbmdNb3VzZUV2ZW50cyI6IHRydWUsCiAgImNvbG9yIjogImJsdWUiLAogICJkYXNoQXJyYXkiOiBudWxsLAogICJkYXNoT2Zmc2V0IjogbnVsbCwKICAiZmlsbCI6IHRydWUsCiAgImZpbGxDb2xvciI6ICIjQUREOEU2IiwKICAiZmlsbE9wYWNpdHkiOiAwLjYsCiAgImZpbGxSdWxlIjogImV2ZW5vZGQiLAogICJsaW5lQ2FwIjogInJvdW5kIiwKICAibGluZUpvaW4iOiAicm91bmQiLAogICJvcGFjaXR5IjogMS4wLAogICJyYWRpdXMiOiA1LAogICJzdHJva2UiOiB0cnVlLAogICJ3ZWlnaHQiOiAzCn0KICAgICAgICAgICAgICAgICkuYWRkVG8obWFwXzRiYjg4YjNkNjU3MDQ5NDZhNTQ1YmJiNzZmMDA5MTQ4KTsKICAgICAgICAgICAgCiAgICAKICAgICAgICAgICAgdmFyIHBvcHVwXzRmYTJjMjg3MDk3NjQ0OWVhZTE1MTc3OWYyMGU0MTQyID0gTC5wb3B1cCh7bWF4V2lkdGg6ICczMDAnfSk7CgogICAgICAgICAgICAKICAgICAgICAgICAgICAgIHZhciBodG1sX2QwOTM2ODUyMjU2YzQ1NzA5MTg0OWRkMzU0NzQ5N2U5ID0gJCgnPGRpdiBpZD0iaHRtbF9kMDkzNjg1MjI1NmM0NTcwOTE4NDlkZDM1NDc0OTdlOSIgc3R5bGU9IndpZHRoOiAxMDAuMCU7IGhlaWdodDogMTAwLjAlOyI+UmVzdG9uLCBWQTwvZGl2PicpWzBdOwogICAgICAgICAgICAgICAgcG9wdXBfNGZhMmMyODcwOTc2NDQ5ZWFlMTUxNzc5ZjIwZTQxNDIuc2V0Q29udGVudChodG1sX2QwOTM2ODUyMjU2YzQ1NzA5MTg0OWRkMzU0NzQ5N2U5KTsKICAgICAgICAgICAgCgogICAgICAgICAgICBjaXJjbGVfbWFya2VyX2U4Y2Y5M2ZiZjllMzQ1M2E4OWIyNDA4ZTNlOGEzM2VjLmJpbmRQb3B1cChwb3B1cF80ZmEyYzI4NzA5NzY0NDllYWUxNTE3NzlmMjBlNDE0Mik7CgogICAgICAgICAgICAKICAgICAgICAKICAgIAogICAgICAgICAgICB2YXIgY2lyY2xlX21hcmtlcl9lYjk5Yjg0OWEyNjE0NjRjYjBlNjI4ZmNlZTYwZTU5ZCA9IEwuY2lyY2xlTWFya2VyKAogICAgICAgICAgICAgICAgWzM4Ljg5NDk4NTUsLTc3LjAzNjU3MDhdLAogICAgICAgICAgICAgICAgewogICJidWJibGluZ01vdXNlRXZlbnRzIjogdHJ1ZSwKICAiY29sb3IiOiAiYmx1ZSIsCiAgImRhc2hBcnJheSI6IG51bGwsCiAgImRhc2hPZmZzZXQiOiBudWxsLAogICJmaWxsIjogdHJ1ZSwKICAiZmlsbENvbG9yIjogIiNBREQ4RTYiLAogICJmaWxsT3BhY2l0eSI6IDAuNiwKICAiZmlsbFJ1bGUiOiAiZXZlbm9kZCIsCiAgImxpbmVDYXAiOiAicm91bmQiLAogICJsaW5lSm9pbiI6ICJyb3VuZCIsCiAgIm9wYWNpdHkiOiAxLjAsCiAgInJhZGl1cyI6IDUsCiAgInN0cm9rZSI6IHRydWUsCiAgIndlaWdodCI6IDMKfQogICAgICAgICAgICAgICAgKS5hZGRUbyhtYXBfNGJiODhiM2Q2NTcwNDk0NmE1NDViYmI3NmYwMDkxNDgpOwogICAgICAgICAgICAKICAgIAogICAgICAgICAgICB2YXIgcG9wdXBfZjg4MGM1YWEzMjAyNGJlYTkwMTIwNjM3NmU4OTZkYTUgPSBMLnBvcHVwKHttYXhXaWR0aDogJzMwMCd9KTsKCiAgICAgICAgICAgIAogICAgICAgICAgICAgICAgdmFyIGh0bWxfM2VmM2JkNTBhNGQ2NDBjMDhiY2ZiOWEwODQ2MjRmZDAgPSAkKCc8ZGl2IGlkPSJodG1sXzNlZjNiZDUwYTRkNjQwYzA4YmNmYjlhMDg0NjI0ZmQwIiBzdHlsZT0id2lkdGg6IDEwMC4wJTsgaGVpZ2h0OiAxMDAuMCU7Ij5XYXNoaW5ndG9uLCBEQzwvZGl2PicpWzBdOwogICAgICAgICAgICAgICAgcG9wdXBfZjg4MGM1YWEzMjAyNGJlYTkwMTIwNjM3NmU4OTZkYTUuc2V0Q29udGVudChodG1sXzNlZjNiZDUwYTRkNjQwYzA4YmNmYjlhMDg0NjI0ZmQwKTsKICAgICAgICAgICAgCgogICAgICAgICAgICBjaXJjbGVfbWFya2VyX2ViOTliODQ5YTI2MTQ2NGNiMGU2MjhmY2VlNjBlNTlkLmJpbmRQb3B1cChwb3B1cF9mODgwYzVhYTMyMDI0YmVhOTAxMjA2Mzc2ZTg5NmRhNSk7CgogICAgICAgICAgICAKICAgICAgICAKICAgIAogICAgICAgICAgICB2YXIgY2lyY2xlX21hcmtlcl85MmJkNmEzNWVjMDc0MWM5ODVhODk0ZTkyMjYyNzI3NiA9IEwuY2lyY2xlTWFya2VyKAogICAgICAgICAgICAgICAgWzM4LjgwNTEwOTUsLTc3LjA0NzAyMjldLAogICAgICAgICAgICAgICAgewogICJidWJibGluZ01vdXNlRXZlbnRzIjogdHJ1ZSwKICAiY29sb3IiOiAiYmx1ZSIsCiAgImRhc2hBcnJheSI6IG51bGwsCiAgImRhc2hPZmZzZXQiOiBudWxsLAogICJmaWxsIjogdHJ1ZSwKICAiZmlsbENvbG9yIjogIiNBREQ4RTYiLAogICJmaWxsT3BhY2l0eSI6IDAuNiwKICAiZmlsbFJ1bGUiOiAiZXZlbm9kZCIsCiAgImxpbmVDYXAiOiAicm91bmQiLAogICJsaW5lSm9pbiI6ICJyb3VuZCIsCiAgIm9wYWNpdHkiOiAxLjAsCiAgInJhZGl1cyI6IDUsCiAgInN0cm9rZSI6IHRydWUsCiAgIndlaWdodCI6IDMKfQogICAgICAgICAgICAgICAgKS5hZGRUbyhtYXBfNGJiODhiM2Q2NTcwNDk0NmE1NDViYmI3NmYwMDkxNDgpOwogICAgICAgICAgICAKICAgIAogICAgICAgICAgICB2YXIgcG9wdXBfYjk5ZTBmOTY1NmY5NGE4MDhjZmI3MTg4NGIwZWQ2MGYgPSBMLnBvcHVwKHttYXhXaWR0aDogJzMwMCd9KTsKCiAgICAgICAgICAgIAogICAgICAgICAgICAgICAgdmFyIGh0bWxfZjJjMmIwZDU5NDFmNDVhNTkxYWFlN2JmZTM5NDg2ZjcgPSAkKCc8ZGl2IGlkPSJodG1sX2YyYzJiMGQ1OTQxZjQ1YTU5MWFhZTdiZmUzOTQ4NmY3IiBzdHlsZT0id2lkdGg6IDEwMC4wJTsgaGVpZ2h0OiAxMDAuMCU7Ij5BbGV4YW5kcmlhLCBWQTwvZGl2PicpWzBdOwogICAgICAgICAgICAgICAgcG9wdXBfYjk5ZTBmOTY1NmY5NGE4MDhjZmI3MTg4NGIwZWQ2MGYuc2V0Q29udGVudChodG1sX2YyYzJiMGQ1OTQxZjQ1YTU5MWFhZTdiZmUzOTQ4NmY3KTsKICAgICAgICAgICAgCgogICAgICAgICAgICBjaXJjbGVfbWFya2VyXzkyYmQ2YTM1ZWMwNzQxYzk4NWE4OTRlOTIyNjI3Mjc2LmJpbmRQb3B1cChwb3B1cF9iOTllMGY5NjU2Zjk0YTgwOGNmYjcxODg0YjBlZDYwZik7CgogICAgICAgICAgICAKICAgICAgICAKICAgIAogICAgICAgICAgICB2YXIgY2lyY2xlX21hcmtlcl85ZGYxMDlhYjU4ZGI0ZTU4YTQzNWVmNjY2NThmMTUwOCA9IEwuY2lyY2xlTWFya2VyKAogICAgICAgICAgICAgICAgWzM4Ljg5MDM5NjEsLTc3LjA4NDE1ODVdLAogICAgICAgICAgICAgICAgewogICJidWJibGluZ01vdXNlRXZlbnRzIjogdHJ1ZSwKICAiY29sb3IiOiAiYmx1ZSIsCiAgImRhc2hBcnJheSI6IG51bGwsCiAgImRhc2hPZmZzZXQiOiBudWxsLAogICJmaWxsIjogdHJ1ZSwKICAiZmlsbENvbG9yIjogIiNBREQ4RTYiLAogICJmaWxsT3BhY2l0eSI6IDAuNiwKICAiZmlsbFJ1bGUiOiAiZXZlbm9kZCIsCiAgImxpbmVDYXAiOiAicm91bmQiLAogICJsaW5lSm9pbiI6ICJyb3VuZCIsCiAgIm9wYWNpdHkiOiAxLjAsCiAgInJhZGl1cyI6IDUsCiAgInN0cm9rZSI6IHRydWUsCiAgIndlaWdodCI6IDMKfQogICAgICAgICAgICAgICAgKS5hZGRUbyhtYXBfNGJiODhiM2Q2NTcwNDk0NmE1NDViYmI3NmYwMDkxNDgpOwogICAgICAgICAgICAKICAgIAogICAgICAgICAgICB2YXIgcG9wdXBfY2JjZmFhOGNjOWNmNDNjMmEyNTc1NTliODBhOGYzMWQgPSBMLnBvcHVwKHttYXhXaWR0aDogJzMwMCd9KTsKCiAgICAgICAgICAgIAogICAgICAgICAgICAgICAgdmFyIGh0bWxfOWE3N2UwOTRiMmQ1NDY0YmE5ZmJlZmRjMGE3ODMyMGEgPSAkKCc8ZGl2IGlkPSJodG1sXzlhNzdlMDk0YjJkNTQ2NGJhOWZiZWZkYzBhNzgzMjBhIiBzdHlsZT0id2lkdGg6IDEwMC4wJTsgaGVpZ2h0OiAxMDAuMCU7Ij5Bcmxpbmd0b24sIFZBPC9kaXY+JylbMF07CiAgICAgICAgICAgICAgICBwb3B1cF9jYmNmYWE4Y2M5Y2Y0M2MyYTI1NzU1OWI4MGE4ZjMxZC5zZXRDb250ZW50KGh0bWxfOWE3N2UwOTRiMmQ1NDY0YmE5ZmJlZmRjMGE3ODMyMGEpOwogICAgICAgICAgICAKCiAgICAgICAgICAgIGNpcmNsZV9tYXJrZXJfOWRmMTA5YWI1OGRiNGU1OGE0MzVlZjY2NjU4ZjE1MDguYmluZFBvcHVwKHBvcHVwX2NiY2ZhYThjYzljZjQzYzJhMjU3NTU5YjgwYThmMzFkKTsKCiAgICAgICAgICAgIAogICAgICAgIAogICAgCiAgICAgICAgICAgIHZhciBjaXJjbGVfbWFya2VyX2E3NGEwZGUzOGZlZjQwYjViNGJjZjlkMTdhMWYyYzRmID0gTC5jaXJjbGVNYXJrZXIoCiAgICAgICAgICAgICAgICBbMzkuMTE1NDQ5NiwtNzcuNTY0NTQ0Nl0sCiAgICAgICAgICAgICAgICB7CiAgImJ1YmJsaW5nTW91c2VFdmVudHMiOiB0cnVlLAogICJjb2xvciI6ICJibHVlIiwKICAiZGFzaEFycmF5IjogbnVsbCwKICAiZGFzaE9mZnNldCI6IG51bGwsCiAgImZpbGwiOiB0cnVlLAogICJmaWxsQ29sb3IiOiAiI0FERDhFNiIsCiAgImZpbGxPcGFjaXR5IjogMC42LAogICJmaWxsUnVsZSI6ICJldmVub2RkIiwKICAibGluZUNhcCI6ICJyb3VuZCIsCiAgImxpbmVKb2luIjogInJvdW5kIiwKICAib3BhY2l0eSI6IDEuMCwKICAicmFkaXVzIjogNSwKICAic3Ryb2tlIjogdHJ1ZSwKICAid2VpZ2h0IjogMwp9CiAgICAgICAgICAgICAgICApLmFkZFRvKG1hcF80YmI4OGIzZDY1NzA0OTQ2YTU0NWJiYjc2ZjAwOTE0OCk7CiAgICAgICAgICAgIAogICAgCiAgICAgICAgICAgIHZhciBwb3B1cF9jYzk2MGYxYjExYTk0YTkxYjRkNDM3MTkyMWViNjIxMyA9IEwucG9wdXAoe21heFdpZHRoOiAnMzAwJ30pOwoKICAgICAgICAgICAgCiAgICAgICAgICAgICAgICB2YXIgaHRtbF8wYjQ4YjU1ZGU5ZTA0ZWU0OGVjNDYxZDliMWM1NWNhOCA9ICQoJzxkaXYgaWQ9Imh0bWxfMGI0OGI1NWRlOWUwNGVlNDhlYzQ2MWQ5YjFjNTVjYTgiIHN0eWxlPSJ3aWR0aDogMTAwLjAlOyBoZWlnaHQ6IDEwMC4wJTsiPkxlZXNidXJnLCBWQTwvZGl2PicpWzBdOwogICAgICAgICAgICAgICAgcG9wdXBfY2M5NjBmMWIxMWE5NGE5MWI0ZDQzNzE5MjFlYjYyMTMuc2V0Q29udGVudChodG1sXzBiNDhiNTVkZTllMDRlZTQ4ZWM0NjFkOWIxYzU1Y2E4KTsKICAgICAgICAgICAgCgogICAgICAgICAgICBjaXJjbGVfbWFya2VyX2E3NGEwZGUzOGZlZjQwYjViNGJjZjlkMTdhMWYyYzRmLmJpbmRQb3B1cChwb3B1cF9jYzk2MGYxYjExYTk0YTkxYjRkNDM3MTkyMWViNjIxMyk7CgogICAgICAgICAgICAKICAgICAgICAKICAgIAogICAgICAgICAgICB2YXIgY2lyY2xlX21hcmtlcl81MWY4NmU0OTM1ZTk0MjRlODdjYjkwYzBjMDE2N2UyYyA9IEwuY2lyY2xlTWFya2VyKAogICAgICAgICAgICAgICAgWzM4LjkxODU5MiwtNzcuMjMxNDcyM10sCiAgICAgICAgICAgICAgICB7CiAgImJ1YmJsaW5nTW91c2VFdmVudHMiOiB0cnVlLAogICJjb2xvciI6ICJibHVlIiwKICAiZGFzaEFycmF5IjogbnVsbCwKICAiZGFzaE9mZnNldCI6IG51bGwsCiAgImZpbGwiOiB0cnVlLAogICJmaWxsQ29sb3IiOiAiI0FERDhFNiIsCiAgImZpbGxPcGFjaXR5IjogMC42LAogICJmaWxsUnVsZSI6ICJldmVub2RkIiwKICAibGluZUNhcCI6ICJyb3VuZCIsCiAgImxpbmVKb2luIjogInJvdW5kIiwKICAib3BhY2l0eSI6IDEuMCwKICAicmFkaXVzIjogNSwKICAic3Ryb2tlIjogdHJ1ZSwKICAid2VpZ2h0IjogMwp9CiAgICAgICAgICAgICAgICApLmFkZFRvKG1hcF80YmI4OGIzZDY1NzA0OTQ2YTU0NWJiYjc2ZjAwOTE0OCk7CiAgICAgICAgICAgIAogICAgCiAgICAgICAgICAgIHZhciBwb3B1cF8xMmYzYmI3NjAwMmU0OWM4YmNjYzY2ZjA2NWI1YTM4OSA9IEwucG9wdXAoe21heFdpZHRoOiAnMzAwJ30pOwoKICAgICAgICAgICAgCiAgICAgICAgICAgICAgICB2YXIgaHRtbF8wNTYyOGVlZTg4NTc0YjQ2ODMwZGYyZDc2MzI0NTMwYiA9ICQoJzxkaXYgaWQ9Imh0bWxfMDU2MjhlZWU4ODU3NGI0NjgzMGRmMmQ3NjMyNDUzMGIiIHN0eWxlPSJ3aWR0aDogMTAwLjAlOyBoZWlnaHQ6IDEwMC4wJTsiPlR5c29ucyBDb3JuZXIsIFZBPC9kaXY+JylbMF07CiAgICAgICAgICAgICAgICBwb3B1cF8xMmYzYmI3NjAwMmU0OWM4YmNjYzY2ZjA2NWI1YTM4OS5zZXRDb250ZW50KGh0bWxfMDU2MjhlZWU4ODU3NGI0NjgzMGRmMmQ3NjMyNDUzMGIpOwogICAgICAgICAgICAKCiAgICAgICAgICAgIGNpcmNsZV9tYXJrZXJfNTFmODZlNDkzNWU5NDI0ZTg3Y2I5MGMwYzAxNjdlMmMuYmluZFBvcHVwKHBvcHVwXzEyZjNiYjc2MDAyZTQ5YzhiY2NjNjZmMDY1YjVhMzg5KTsKCiAgICAgICAgICAgIAogICAgICAgIAogICAgCiAgICAgICAgICAgIHZhciBjaXJjbGVfbWFya2VyXzQzMDY0ZDY2YThhODRkNGY5OGVjNmIxZmQyYTJhZjRlID0gTC5jaXJjbGVNYXJrZXIoCiAgICAgICAgICAgICAgICBbMzguODk0MTU0MywtNzcuNDMxMTUxM10sCiAgICAgICAgICAgICAgICB7CiAgImJ1YmJsaW5nTW91c2VFdmVudHMiOiB0cnVlLAogICJjb2xvciI6ICJibHVlIiwKICAiZGFzaEFycmF5IjogbnVsbCwKICAiZGFzaE9mZnNldCI6IG51bGwsCiAgImZpbGwiOiB0cnVlLAogICJmaWxsQ29sb3IiOiAiI0FERDhFNiIsCiAgImZpbGxPcGFjaXR5IjogMC42LAogICJmaWxsUnVsZSI6ICJldmVub2RkIiwKICAibGluZUNhcCI6ICJyb3VuZCIsCiAgImxpbmVKb2luIjogInJvdW5kIiwKICAib3BhY2l0eSI6IDEuMCwKICAicmFkaXVzIjogNSwKICAic3Ryb2tlIjogdHJ1ZSwKICAid2VpZ2h0IjogMwp9CiAgICAgICAgICAgICAgICApLmFkZFRvKG1hcF80YmI4OGIzZDY1NzA0OTQ2YTU0NWJiYjc2ZjAwOTE0OCk7CiAgICAgICAgICAgIAogICAgCiAgICAgICAgICAgIHZhciBwb3B1cF80NGIwMDk5NTBiNTI0YzRlOTU5YTg4ZGIwNzhlNzAzMCA9IEwucG9wdXAoe21heFdpZHRoOiAnMzAwJ30pOwoKICAgICAgICAgICAgCiAgICAgICAgICAgICAgICB2YXIgaHRtbF8zNjAzMjY5ZTg2YjQ0NTQ3ODAxNDA2OTIyZWNiZjliNiA9ICQoJzxkaXYgaWQ9Imh0bWxfMzYwMzI2OWU4NmI0NDU0NzgwMTQwNjkyMmVjYmY5YjYiIHN0eWxlPSJ3aWR0aDogMTAwLjAlOyBoZWlnaHQ6IDEwMC4wJTsiPkNoYW50aWxseSwgVkE8L2Rpdj4nKVswXTsKICAgICAgICAgICAgICAgIHBvcHVwXzQ0YjAwOTk1MGI1MjRjNGU5NTlhODhkYjA3OGU3MDMwLnNldENvbnRlbnQoaHRtbF8zNjAzMjY5ZTg2YjQ0NTQ3ODAxNDA2OTIyZWNiZjliNik7CiAgICAgICAgICAgIAoKICAgICAgICAgICAgY2lyY2xlX21hcmtlcl80MzA2NGQ2NmE4YTg0ZDRmOThlYzZiMWZkMmEyYWY0ZS5iaW5kUG9wdXAocG9wdXBfNDRiMDA5OTUwYjUyNGM0ZTk1OWE4OGRiMDc4ZTcwMzApOwoKICAgICAgICAgICAgCiAgICAgICAgCiAgICAKICAgICAgICAgICAgdmFyIGNpcmNsZV9tYXJrZXJfMjliMDkwMWU2MDYyNGM1NmEwNThkOTE3ZDk2ZDM2MzEgPSBMLmNpcmNsZU1hcmtlcigKICAgICAgICAgICAgICAgIFszOC45MDEzNzI5LC03Ny4yNjUxNzYyXSwKICAgICAgICAgICAgICAgIHsKICAiYnViYmxpbmdNb3VzZUV2ZW50cyI6IHRydWUsCiAgImNvbG9yIjogImJsdWUiLAogICJkYXNoQXJyYXkiOiBudWxsLAogICJkYXNoT2Zmc2V0IjogbnVsbCwKICAiZmlsbCI6IHRydWUsCiAgImZpbGxDb2xvciI6ICIjQUREOEU2IiwKICAiZmlsbE9wYWNpdHkiOiAwLjYsCiAgImZpbGxSdWxlIjogImV2ZW5vZGQiLAogICJsaW5lQ2FwIjogInJvdW5kIiwKICAibGluZUpvaW4iOiAicm91bmQiLAogICJvcGFjaXR5IjogMS4wLAogICJyYWRpdXMiOiA1LAogICJzdHJva2UiOiB0cnVlLAogICJ3ZWlnaHQiOiAzCn0KICAgICAgICAgICAgICAgICkuYWRkVG8obWFwXzRiYjg4YjNkNjU3MDQ5NDZhNTQ1YmJiNzZmMDA5MTQ4KTsKICAgICAgICAgICAgCiAgICAKICAgICAgICAgICAgdmFyIHBvcHVwXzI2MGNlMjQ1OWFlYTRiNzhiZjU5OTIxZTE5NmQyYzMzID0gTC5wb3B1cCh7bWF4V2lkdGg6ICczMDAnfSk7CgogICAgICAgICAgICAKICAgICAgICAgICAgICAgIHZhciBodG1sXzA2YmQ3NGMwMjg5NDQ2ZjFhY2U4ODM1MTg3OWMzMWFmID0gJCgnPGRpdiBpZD0iaHRtbF8wNmJkNzRjMDI4OTQ0NmYxYWNlODgzNTE4NzljMzFhZiIgc3R5bGU9IndpZHRoOiAxMDAuMCU7IGhlaWdodDogMTAwLjAlOyI+Vmllbm5hLCBWQTwvZGl2PicpWzBdOwogICAgICAgICAgICAgICAgcG9wdXBfMjYwY2UyNDU5YWVhNGI3OGJmNTk5MjFlMTk2ZDJjMzMuc2V0Q29udGVudChodG1sXzA2YmQ3NGMwMjg5NDQ2ZjFhY2U4ODM1MTg3OWMzMWFmKTsKICAgICAgICAgICAgCgogICAgICAgICAgICBjaXJjbGVfbWFya2VyXzI5YjA5MDFlNjA2MjRjNTZhMDU4ZDkxN2Q5NmQzNjMxLmJpbmRQb3B1cChwb3B1cF8yNjBjZTI0NTlhZWE0Yjc4YmY1OTkyMWUxOTZkMmMzMyk7CgogICAgICAgICAgICAKICAgICAgICAKICAgIAogICAgICAgICAgICB2YXIgY2lyY2xlX21hcmtlcl9jMGM3YTFjNzg5MjA0YmE2YTE4N2VkMjY0OTFhNWJiMyA9IEwuY2lyY2xlTWFya2VyKAogICAgICAgICAgICAgICAgWzM4Ljg0NjIyMzYsLTc3LjMwNjM3MzNdLAogICAgICAgICAgICAgICAgewogICJidWJibGluZ01vdXNlRXZlbnRzIjogdHJ1ZSwKICAiY29sb3IiOiAiYmx1ZSIsCiAgImRhc2hBcnJheSI6IG51bGwsCiAgImRhc2hPZmZzZXQiOiBudWxsLAogICJmaWxsIjogdHJ1ZSwKICAiZmlsbENvbG9yIjogIiNBREQ4RTYiLAogICJmaWxsT3BhY2l0eSI6IDAuNiwKICAiZmlsbFJ1bGUiOiAiZXZlbm9kZCIsCiAgImxpbmVDYXAiOiAicm91bmQiLAogICJsaW5lSm9pbiI6ICJyb3VuZCIsCiAgIm9wYWNpdHkiOiAxLjAsCiAgInJhZGl1cyI6IDUsCiAgInN0cm9rZSI6IHRydWUsCiAgIndlaWdodCI6IDMKfQogICAgICAgICAgICAgICAgKS5hZGRUbyhtYXBfNGJiODhiM2Q2NTcwNDk0NmE1NDViYmI3NmYwMDkxNDgpOwogICAgICAgICAgICAKICAgIAogICAgICAgICAgICB2YXIgcG9wdXBfNTBmZGIzMjRkZjNmNDc4MWE3MGEwYTc0NzdlN2VlMzMgPSBMLnBvcHVwKHttYXhXaWR0aDogJzMwMCd9KTsKCiAgICAgICAgICAgIAogICAgICAgICAgICAgICAgdmFyIGh0bWxfNThhMTExMzRmZWI2NDlhNzk2ZTMyMjRjNmEzNGEwYjAgPSAkKCc8ZGl2IGlkPSJodG1sXzU4YTExMTM0ZmViNjQ5YTc5NmUzMjI0YzZhMzRhMGIwIiBzdHlsZT0id2lkdGg6IDEwMC4wJTsgaGVpZ2h0OiAxMDAuMCU7Ij5GYWlyZmF4LCBWQTwvZGl2PicpWzBdOwogICAgICAgICAgICAgICAgcG9wdXBfNTBmZGIzMjRkZjNmNDc4MWE3MGEwYTc0NzdlN2VlMzMuc2V0Q29udGVudChodG1sXzU4YTExMTM0ZmViNjQ5YTc5NmUzMjI0YzZhMzRhMGIwKTsKICAgICAgICAgICAgCgogICAgICAgICAgICBjaXJjbGVfbWFya2VyX2MwYzdhMWM3ODkyMDRiYTZhMTg3ZWQyNjQ5MWE1YmIzLmJpbmRQb3B1cChwb3B1cF81MGZkYjMyNGRmM2Y0NzgxYTcwYTBhNzQ3N2U3ZWUzMyk7CgogICAgICAgICAgICAKICAgICAgICAKPC9zY3JpcHQ+ onload=\"this.contentDocument.open();this.contentDocument.write(atob(this.getAttribute('data-html')));this.contentDocument.close();\" allowfullscreen webkitallowfullscreen mozallowfullscreen></iframe></div></div>"
      ],
      "text/plain": [
       "<folium.folium.Map at 0x252f08c7108>"
      ]
     },
     "execution_count": 5,
     "metadata": {},
     "output_type": "execute_result"
    }
   ],
   "source": [
    "# Make a map object\n",
    "my_map = folium.Map(location = [39.22, -77.09], zoom_start = 9., tiles = \"Stamen Terrain\")\n",
    "\n",
    "# Add City markers to the map\n",
    "for lat, lng, city, state in zip(locations_df['Latitude'], locations_df['Longitude'], locations_df['City'], locations_df['State']):\n",
    "    label = '{}, {}'.format(city, state)\n",
    "    label = folium.Popup(label, parse_html=True)\n",
    "    folium.CircleMarker(\n",
    "        [lat, lng],\n",
    "        radius=5,\n",
    "        popup=label,\n",
    "        color='blue',\n",
    "        fill=True,\n",
    "        fill_color='#ADD8E6',\n",
    "        fill_opacity=0.6,\n",
    "        parse_html=False).add_to(my_map)\n",
    "\n",
    "my_map"
   ]
  },
  {
   "cell_type": "markdown",
   "metadata": {},
   "source": [
    "### Collect venue data and perform cluster analysis\n",
    "\n",
    "Using the Foursquare API, let's collect venue data surrounding these different cities and use the categories of the venues for cluster analysis. This will give us an idea of which location options are similar and which group Frederick falls into."
   ]
  },
  {
   "cell_type": "code",
   "execution_count": null,
   "metadata": {},
   "outputs": [],
   "source": []
  }
 ],
 "metadata": {
  "kernelspec": {
   "display_name": "Python 3",
   "language": "python",
   "name": "python3"
  },
  "language_info": {
   "codemirror_mode": {
    "name": "ipython",
    "version": 3
   },
   "file_extension": ".py",
   "mimetype": "text/x-python",
   "name": "python",
   "nbconvert_exporter": "python",
   "pygments_lexer": "ipython3",
   "version": "3.7.6"
  }
 },
 "nbformat": 4,
 "nbformat_minor": 4
}
